{
 "cells": [
  {
   "cell_type": "markdown",
   "id": "fc972a80-35ea-4de5-81d7-fb3decc26dd2",
   "metadata": {},
   "source": [
    "# Data preprocessing for house price prediction"
   ]
  },
  {
   "cell_type": "code",
   "execution_count": 1,
   "id": "469e0f5f-cb8c-4af4-ab36-40f9c5ee40c6",
   "metadata": {},
   "outputs": [],
   "source": [
    "import pandas as pd"
   ]
  },
  {
   "cell_type": "code",
   "execution_count": 2,
   "id": "321d853b-aaac-47d9-8300-d2ea5568d554",
   "metadata": {},
   "outputs": [],
   "source": [
    "data = pd.read_csv('dataset.csv')\n",
    "df = pd.DataFrame(data)"
   ]
  },
  {
   "cell_type": "code",
   "execution_count": 3,
   "id": "0b64e646-5e1f-419e-9577-9fa562f1251e",
   "metadata": {},
   "outputs": [],
   "source": [
    "def save_df(description):\n",
    "    df.to_csv(f'new_dataset_checkpoint_{description}.csv', index=False)"
   ]
  },
  {
   "cell_type": "code",
   "execution_count": 4,
   "id": "f10ad7e5-ff2d-4846-b093-1a64c01a5552",
   "metadata": {},
   "outputs": [
    {
     "data": {
      "text/html": [
       "<div>\n",
       "<style scoped>\n",
       "    .dataframe tbody tr th:only-of-type {\n",
       "        vertical-align: middle;\n",
       "    }\n",
       "\n",
       "    .dataframe tbody tr th {\n",
       "        vertical-align: top;\n",
       "    }\n",
       "\n",
       "    .dataframe thead th {\n",
       "        text-align: right;\n",
       "    }\n",
       "</style>\n",
       "<table border=\"1\" class=\"dataframe\">\n",
       "  <thead>\n",
       "    <tr style=\"text-align: right;\">\n",
       "      <th></th>\n",
       "      <th>Tipologia</th>\n",
       "      <th>Contratto</th>\n",
       "      <th>Piano</th>\n",
       "      <th>Piani edificio</th>\n",
       "      <th>Ascensore</th>\n",
       "      <th>Superficie</th>\n",
       "      <th>Locali</th>\n",
       "      <th>Camere da letto</th>\n",
       "      <th>Bagni</th>\n",
       "      <th>Terrazzo</th>\n",
       "      <th>...</th>\n",
       "      <th>Climatizzazione</th>\n",
       "      <th>Spese condominio</th>\n",
       "      <th>Spese riscaldamento</th>\n",
       "      <th>Disponibilità</th>\n",
       "      <th>Uso edificio attuale</th>\n",
       "      <th>Unità</th>\n",
       "      <th>Data inizio e fine lavori</th>\n",
       "      <th>Totale piani edificio</th>\n",
       "      <th>Posti Auto</th>\n",
       "      <th>Spese aggiuntive</th>\n",
       "    </tr>\n",
       "  </thead>\n",
       "  <tbody>\n",
       "    <tr>\n",
       "      <th>0</th>\n",
       "      <td>Appartamento | Intera proprietà | Classe immob...</td>\n",
       "      <td>Vendita</td>\n",
       "      <td>3</td>\n",
       "      <td>3.0</td>\n",
       "      <td>No</td>\n",
       "      <td>60 m²</td>\n",
       "      <td>2</td>\n",
       "      <td>1.0</td>\n",
       "      <td>1</td>\n",
       "      <td>Sì</td>\n",
       "      <td>...</td>\n",
       "      <td>NaN</td>\n",
       "      <td>NaN</td>\n",
       "      <td>NaN</td>\n",
       "      <td>NaN</td>\n",
       "      <td>NaN</td>\n",
       "      <td>NaN</td>\n",
       "      <td>NaN</td>\n",
       "      <td>NaN</td>\n",
       "      <td>NaN</td>\n",
       "      <td>NaN</td>\n",
       "    </tr>\n",
       "    <tr>\n",
       "      <th>1</th>\n",
       "      <td>Appartamento | Intera proprietà | Classe immob...</td>\n",
       "      <td>Vendita</td>\n",
       "      <td>3</td>\n",
       "      <td>3.0</td>\n",
       "      <td>Sì</td>\n",
       "      <td>50 m²</td>\n",
       "      <td>2</td>\n",
       "      <td>1.0</td>\n",
       "      <td>1</td>\n",
       "      <td>Sì</td>\n",
       "      <td>...</td>\n",
       "      <td>Autonomo, freddo/caldo</td>\n",
       "      <td>€ 40/mese</td>\n",
       "      <td>NaN</td>\n",
       "      <td>NaN</td>\n",
       "      <td>NaN</td>\n",
       "      <td>NaN</td>\n",
       "      <td>NaN</td>\n",
       "      <td>NaN</td>\n",
       "      <td>NaN</td>\n",
       "      <td>NaN</td>\n",
       "    </tr>\n",
       "    <tr>\n",
       "      <th>2</th>\n",
       "      <td>Appartamento | Intera proprietà | Classe immob...</td>\n",
       "      <td>Vendita</td>\n",
       "      <td>Piano terra</td>\n",
       "      <td>2.0</td>\n",
       "      <td>No</td>\n",
       "      <td>28 m²</td>\n",
       "      <td>1</td>\n",
       "      <td>1.0</td>\n",
       "      <td>1</td>\n",
       "      <td>No</td>\n",
       "      <td>...</td>\n",
       "      <td>Autonomo, freddo/caldo</td>\n",
       "      <td>NaN</td>\n",
       "      <td>NaN</td>\n",
       "      <td>NaN</td>\n",
       "      <td>NaN</td>\n",
       "      <td>NaN</td>\n",
       "      <td>NaN</td>\n",
       "      <td>NaN</td>\n",
       "      <td>NaN</td>\n",
       "      <td>NaN</td>\n",
       "    </tr>\n",
       "    <tr>\n",
       "      <th>3</th>\n",
       "      <td>Appartamento | Nuda proprietà | Classe immobil...</td>\n",
       "      <td>Vendita</td>\n",
       "      <td>1</td>\n",
       "      <td>7.0</td>\n",
       "      <td>Sì</td>\n",
       "      <td>80 m²</td>\n",
       "      <td>3</td>\n",
       "      <td>2.0</td>\n",
       "      <td>2</td>\n",
       "      <td>Sì</td>\n",
       "      <td>...</td>\n",
       "      <td>NaN</td>\n",
       "      <td>€ 70/mese</td>\n",
       "      <td>NaN</td>\n",
       "      <td>NaN</td>\n",
       "      <td>NaN</td>\n",
       "      <td>NaN</td>\n",
       "      <td>NaN</td>\n",
       "      <td>NaN</td>\n",
       "      <td>NaN</td>\n",
       "      <td>NaN</td>\n",
       "    </tr>\n",
       "    <tr>\n",
       "      <th>4</th>\n",
       "      <td>Appartamento | Intera proprietà | Classe immob...</td>\n",
       "      <td>Vendita</td>\n",
       "      <td>1</td>\n",
       "      <td>4.0</td>\n",
       "      <td>Sì</td>\n",
       "      <td>103 m²</td>\n",
       "      <td>3</td>\n",
       "      <td>2.0</td>\n",
       "      <td>2</td>\n",
       "      <td>Sì</td>\n",
       "      <td>...</td>\n",
       "      <td>NaN</td>\n",
       "      <td>NaN</td>\n",
       "      <td>NaN</td>\n",
       "      <td>NaN</td>\n",
       "      <td>NaN</td>\n",
       "      <td>NaN</td>\n",
       "      <td>NaN</td>\n",
       "      <td>NaN</td>\n",
       "      <td>NaN</td>\n",
       "      <td>NaN</td>\n",
       "    </tr>\n",
       "    <tr>\n",
       "      <th>...</th>\n",
       "      <td>...</td>\n",
       "      <td>...</td>\n",
       "      <td>...</td>\n",
       "      <td>...</td>\n",
       "      <td>...</td>\n",
       "      <td>...</td>\n",
       "      <td>...</td>\n",
       "      <td>...</td>\n",
       "      <td>...</td>\n",
       "      <td>...</td>\n",
       "      <td>...</td>\n",
       "      <td>...</td>\n",
       "      <td>...</td>\n",
       "      <td>...</td>\n",
       "      <td>...</td>\n",
       "      <td>...</td>\n",
       "      <td>...</td>\n",
       "      <td>...</td>\n",
       "      <td>...</td>\n",
       "      <td>...</td>\n",
       "      <td>...</td>\n",
       "    </tr>\n",
       "    <tr>\n",
       "      <th>26009</th>\n",
       "      <td>Appartamento | Intera proprietà</td>\n",
       "      <td>Vendita</td>\n",
       "      <td>1</td>\n",
       "      <td>2.0</td>\n",
       "      <td>No</td>\n",
       "      <td>60 m²</td>\n",
       "      <td>2</td>\n",
       "      <td>1.0</td>\n",
       "      <td>1</td>\n",
       "      <td>No</td>\n",
       "      <td>...</td>\n",
       "      <td>Predisposizione impianto</td>\n",
       "      <td>€ 20/mese</td>\n",
       "      <td>NaN</td>\n",
       "      <td>NaN</td>\n",
       "      <td>NaN</td>\n",
       "      <td>NaN</td>\n",
       "      <td>NaN</td>\n",
       "      <td>NaN</td>\n",
       "      <td>NaN</td>\n",
       "      <td>NaN</td>\n",
       "    </tr>\n",
       "    <tr>\n",
       "      <th>26010</th>\n",
       "      <td>Appartamento | Intera proprietà | Immobile di ...</td>\n",
       "      <td>Vendita</td>\n",
       "      <td>5</td>\n",
       "      <td>6.0</td>\n",
       "      <td>Sì</td>\n",
       "      <td>217 m²</td>\n",
       "      <td>5</td>\n",
       "      <td>3.0</td>\n",
       "      <td>3</td>\n",
       "      <td>Sì</td>\n",
       "      <td>...</td>\n",
       "      <td>Centralizzato, freddo/caldo</td>\n",
       "      <td>NaN</td>\n",
       "      <td>NaN</td>\n",
       "      <td>NaN</td>\n",
       "      <td>NaN</td>\n",
       "      <td>NaN</td>\n",
       "      <td>NaN</td>\n",
       "      <td>NaN</td>\n",
       "      <td>NaN</td>\n",
       "      <td>NaN</td>\n",
       "    </tr>\n",
       "    <tr>\n",
       "      <th>26011</th>\n",
       "      <td>Appartamento | Nuda proprietà | Classe immobil...</td>\n",
       "      <td>Vendita</td>\n",
       "      <td>1</td>\n",
       "      <td>3.0</td>\n",
       "      <td>Sì</td>\n",
       "      <td>120 m²</td>\n",
       "      <td>3</td>\n",
       "      <td>2.0</td>\n",
       "      <td>2</td>\n",
       "      <td>NaN</td>\n",
       "      <td>...</td>\n",
       "      <td>NaN</td>\n",
       "      <td>NaN</td>\n",
       "      <td>NaN</td>\n",
       "      <td>NaN</td>\n",
       "      <td>NaN</td>\n",
       "      <td>NaN</td>\n",
       "      <td>NaN</td>\n",
       "      <td>NaN</td>\n",
       "      <td>NaN</td>\n",
       "      <td>NaN</td>\n",
       "    </tr>\n",
       "    <tr>\n",
       "      <th>26012</th>\n",
       "      <td>Appartamento | Intera proprietà</td>\n",
       "      <td>Vendita</td>\n",
       "      <td>2</td>\n",
       "      <td>3.0</td>\n",
       "      <td>No</td>\n",
       "      <td>100 m²</td>\n",
       "      <td>4</td>\n",
       "      <td>3.0</td>\n",
       "      <td>2</td>\n",
       "      <td>No</td>\n",
       "      <td>...</td>\n",
       "      <td>Autonomo</td>\n",
       "      <td>NaN</td>\n",
       "      <td>NaN</td>\n",
       "      <td>NaN</td>\n",
       "      <td>NaN</td>\n",
       "      <td>NaN</td>\n",
       "      <td>NaN</td>\n",
       "      <td>NaN</td>\n",
       "      <td>NaN</td>\n",
       "      <td>NaN</td>\n",
       "    </tr>\n",
       "    <tr>\n",
       "      <th>26013</th>\n",
       "      <td>Villa bifamiliare | Intera proprietà | Classe ...</td>\n",
       "      <td>Vendita</td>\n",
       "      <td>Piano terra</td>\n",
       "      <td>3.0</td>\n",
       "      <td>No</td>\n",
       "      <td>160 m² | commerciale 180 m²</td>\n",
       "      <td>4</td>\n",
       "      <td>2.0</td>\n",
       "      <td>2</td>\n",
       "      <td>Sì</td>\n",
       "      <td>...</td>\n",
       "      <td>Autonomo, freddo/caldo</td>\n",
       "      <td>€ 1/mese</td>\n",
       "      <td>NaN</td>\n",
       "      <td>NaN</td>\n",
       "      <td>NaN</td>\n",
       "      <td>NaN</td>\n",
       "      <td>NaN</td>\n",
       "      <td>NaN</td>\n",
       "      <td>NaN</td>\n",
       "      <td>NaN</td>\n",
       "    </tr>\n",
       "  </tbody>\n",
       "</table>\n",
       "<p>26014 rows × 27 columns</p>\n",
       "</div>"
      ],
      "text/plain": [
       "                                               Tipologia Contratto  \\\n",
       "0      Appartamento | Intera proprietà | Classe immob...   Vendita   \n",
       "1      Appartamento | Intera proprietà | Classe immob...   Vendita   \n",
       "2      Appartamento | Intera proprietà | Classe immob...   Vendita   \n",
       "3      Appartamento | Nuda proprietà | Classe immobil...   Vendita   \n",
       "4      Appartamento | Intera proprietà | Classe immob...   Vendita   \n",
       "...                                                  ...       ...   \n",
       "26009                    Appartamento | Intera proprietà   Vendita   \n",
       "26010  Appartamento | Intera proprietà | Immobile di ...   Vendita   \n",
       "26011  Appartamento | Nuda proprietà | Classe immobil...   Vendita   \n",
       "26012                    Appartamento | Intera proprietà   Vendita   \n",
       "26013  Villa bifamiliare | Intera proprietà | Classe ...   Vendita   \n",
       "\n",
       "             Piano  Piani edificio Ascensore                   Superficie  \\\n",
       "0                3             3.0        No                        60 m²   \n",
       "1                3             3.0        Sì                        50 m²   \n",
       "2      Piano terra             2.0        No                        28 m²   \n",
       "3                1             7.0        Sì                        80 m²   \n",
       "4                1             4.0        Sì                       103 m²   \n",
       "...            ...             ...       ...                          ...   \n",
       "26009            1             2.0        No                        60 m²   \n",
       "26010            5             6.0        Sì                       217 m²   \n",
       "26011            1             3.0        Sì                       120 m²   \n",
       "26012            2             3.0        No                       100 m²   \n",
       "26013  Piano terra             3.0        No  160 m² | commerciale 180 m²   \n",
       "\n",
       "      Locali  Camere da letto Bagni Terrazzo  ...  \\\n",
       "0          2              1.0     1       Sì  ...   \n",
       "1          2              1.0     1       Sì  ...   \n",
       "2          1              1.0     1       No  ...   \n",
       "3          3              2.0     2       Sì  ...   \n",
       "4          3              2.0     2       Sì  ...   \n",
       "...      ...              ...   ...      ...  ...   \n",
       "26009      2              1.0     1       No  ...   \n",
       "26010      5              3.0     3       Sì  ...   \n",
       "26011      3              2.0     2      NaN  ...   \n",
       "26012      4              3.0     2       No  ...   \n",
       "26013      4              2.0     2       Sì  ...   \n",
       "\n",
       "                   Climatizzazione Spese condominio Spese riscaldamento  \\\n",
       "0                              NaN              NaN                 NaN   \n",
       "1           Autonomo, freddo/caldo        € 40/mese                 NaN   \n",
       "2           Autonomo, freddo/caldo              NaN                 NaN   \n",
       "3                              NaN        € 70/mese                 NaN   \n",
       "4                              NaN              NaN                 NaN   \n",
       "...                            ...              ...                 ...   \n",
       "26009     Predisposizione impianto        € 20/mese                 NaN   \n",
       "26010  Centralizzato, freddo/caldo              NaN                 NaN   \n",
       "26011                          NaN              NaN                 NaN   \n",
       "26012                     Autonomo              NaN                 NaN   \n",
       "26013       Autonomo, freddo/caldo         € 1/mese                 NaN   \n",
       "\n",
       "      Disponibilità Uso edificio attuale Unità Data inizio e fine lavori  \\\n",
       "0               NaN                  NaN   NaN                       NaN   \n",
       "1               NaN                  NaN   NaN                       NaN   \n",
       "2               NaN                  NaN   NaN                       NaN   \n",
       "3               NaN                  NaN   NaN                       NaN   \n",
       "4               NaN                  NaN   NaN                       NaN   \n",
       "...             ...                  ...   ...                       ...   \n",
       "26009           NaN                  NaN   NaN                       NaN   \n",
       "26010           NaN                  NaN   NaN                       NaN   \n",
       "26011           NaN                  NaN   NaN                       NaN   \n",
       "26012           NaN                  NaN   NaN                       NaN   \n",
       "26013           NaN                  NaN   NaN                       NaN   \n",
       "\n",
       "      Totale piani edificio Posti Auto Spese aggiuntive  \n",
       "0                       NaN        NaN              NaN  \n",
       "1                       NaN        NaN              NaN  \n",
       "2                       NaN        NaN              NaN  \n",
       "3                       NaN        NaN              NaN  \n",
       "4                       NaN        NaN              NaN  \n",
       "...                     ...        ...              ...  \n",
       "26009                   NaN        NaN              NaN  \n",
       "26010                   NaN        NaN              NaN  \n",
       "26011                   NaN        NaN              NaN  \n",
       "26012                   NaN        NaN              NaN  \n",
       "26013                   NaN        NaN              NaN  \n",
       "\n",
       "[26014 rows x 27 columns]"
      ]
     },
     "execution_count": 4,
     "metadata": {},
     "output_type": "execute_result"
    }
   ],
   "source": [
    "df"
   ]
  },
  {
   "cell_type": "code",
   "execution_count": 5,
   "id": "2213df89-8d25-410c-8b4c-4f2704069511",
   "metadata": {},
   "outputs": [
    {
     "name": "stdout",
     "output_type": "stream",
     "text": [
      "Duplicates in the dataset: 1463\n"
     ]
    }
   ],
   "source": [
    "print(f'Duplicates in the dataset: {len(df) - len(df.drop_duplicates())}')"
   ]
  },
  {
   "cell_type": "code",
   "execution_count": 6,
   "id": "bcb5d523-1067-41b6-b531-ffcd13d81039",
   "metadata": {},
   "outputs": [],
   "source": [
    "# Clean the dataset from duplicates\n",
    "df.drop_duplicates(inplace=True)"
   ]
  },
  {
   "cell_type": "code",
   "execution_count": 7,
   "id": "06eb4338-34e9-4aa9-9c17-45881f17847b",
   "metadata": {},
   "outputs": [],
   "source": [
    "# Remove data leakage\n",
    "df.drop('Prezzo al m²', axis=1, inplace=True)"
   ]
  },
  {
   "cell_type": "code",
   "execution_count": 8,
   "id": "737b37b8-3033-4792-979c-a3bef06ca06c",
   "metadata": {},
   "outputs": [],
   "source": [
    "def create_nans_columns_df():\n",
    "    nans_dict = {column: [df[column].isna().sum(), \n",
    "                            round(df[column].isna().sum() / len(df) * 100, 3)] \n",
    "                   for column in df.columns}\n",
    "    nans_df = pd.DataFrame(nans_dict, ['NaNs', 'NaNs in %'])\n",
    "    nans_df = nans_df.transpose()\n",
    "    nans_df['NaNs'] = nans_df['NaNs'].astype(int)\n",
    "    return nans_df"
   ]
  },
  {
   "cell_type": "code",
   "execution_count": 9,
   "id": "83474fd2-daa6-47f7-98e0-01fb3a42aa18",
   "metadata": {},
   "outputs": [],
   "source": [
    "nans_columns_df = create_nans_columns_df()"
   ]
  },
  {
   "cell_type": "code",
   "execution_count": 10,
   "id": "3854f4a9-cf4a-4193-96c9-60a02ea20356",
   "metadata": {},
   "outputs": [
    {
     "data": {
      "text/html": [
       "<div>\n",
       "<style scoped>\n",
       "    .dataframe tbody tr th:only-of-type {\n",
       "        vertical-align: middle;\n",
       "    }\n",
       "\n",
       "    .dataframe tbody tr th {\n",
       "        vertical-align: top;\n",
       "    }\n",
       "\n",
       "    .dataframe thead th {\n",
       "        text-align: right;\n",
       "    }\n",
       "</style>\n",
       "<table border=\"1\" class=\"dataframe\">\n",
       "  <thead>\n",
       "    <tr style=\"text-align: right;\">\n",
       "      <th></th>\n",
       "      <th>NaNs</th>\n",
       "      <th>NaNs in %</th>\n",
       "    </tr>\n",
       "  </thead>\n",
       "  <tbody>\n",
       "    <tr>\n",
       "      <th>Tipologia</th>\n",
       "      <td>1</td>\n",
       "      <td>0.004</td>\n",
       "    </tr>\n",
       "    <tr>\n",
       "      <th>Contratto</th>\n",
       "      <td>1</td>\n",
       "      <td>0.004</td>\n",
       "    </tr>\n",
       "    <tr>\n",
       "      <th>Piano</th>\n",
       "      <td>267</td>\n",
       "      <td>1.088</td>\n",
       "    </tr>\n",
       "    <tr>\n",
       "      <th>Piani edificio</th>\n",
       "      <td>1029</td>\n",
       "      <td>4.191</td>\n",
       "    </tr>\n",
       "    <tr>\n",
       "      <th>Ascensore</th>\n",
       "      <td>1333</td>\n",
       "      <td>5.430</td>\n",
       "    </tr>\n",
       "    <tr>\n",
       "      <th>Superficie</th>\n",
       "      <td>116</td>\n",
       "      <td>0.472</td>\n",
       "    </tr>\n",
       "    <tr>\n",
       "      <th>Locali</th>\n",
       "      <td>180</td>\n",
       "      <td>0.733</td>\n",
       "    </tr>\n",
       "    <tr>\n",
       "      <th>Camere da letto</th>\n",
       "      <td>888</td>\n",
       "      <td>3.617</td>\n",
       "    </tr>\n",
       "    <tr>\n",
       "      <th>Bagni</th>\n",
       "      <td>668</td>\n",
       "      <td>2.721</td>\n",
       "    </tr>\n",
       "    <tr>\n",
       "      <th>Terrazzo</th>\n",
       "      <td>2899</td>\n",
       "      <td>11.808</td>\n",
       "    </tr>\n",
       "    <tr>\n",
       "      <th>Riscaldamento</th>\n",
       "      <td>1498</td>\n",
       "      <td>6.102</td>\n",
       "    </tr>\n",
       "    <tr>\n",
       "      <th>Prezzo</th>\n",
       "      <td>112</td>\n",
       "      <td>0.456</td>\n",
       "    </tr>\n",
       "    <tr>\n",
       "      <th>Cucina</th>\n",
       "      <td>2821</td>\n",
       "      <td>11.490</td>\n",
       "    </tr>\n",
       "    <tr>\n",
       "      <th>Arredato</th>\n",
       "      <td>4427</td>\n",
       "      <td>18.032</td>\n",
       "    </tr>\n",
       "    <tr>\n",
       "      <th>Balcone</th>\n",
       "      <td>2380</td>\n",
       "      <td>9.694</td>\n",
       "    </tr>\n",
       "    <tr>\n",
       "      <th>Box, posti auto</th>\n",
       "      <td>13929</td>\n",
       "      <td>56.735</td>\n",
       "    </tr>\n",
       "    <tr>\n",
       "      <th>Climatizzazione</th>\n",
       "      <td>10026</td>\n",
       "      <td>40.837</td>\n",
       "    </tr>\n",
       "    <tr>\n",
       "      <th>Spese condominio</th>\n",
       "      <td>5155</td>\n",
       "      <td>20.997</td>\n",
       "    </tr>\n",
       "    <tr>\n",
       "      <th>Spese riscaldamento</th>\n",
       "      <td>19762</td>\n",
       "      <td>80.494</td>\n",
       "    </tr>\n",
       "    <tr>\n",
       "      <th>Disponibilità</th>\n",
       "      <td>24408</td>\n",
       "      <td>99.418</td>\n",
       "    </tr>\n",
       "    <tr>\n",
       "      <th>Uso edificio attuale</th>\n",
       "      <td>24401</td>\n",
       "      <td>99.389</td>\n",
       "    </tr>\n",
       "    <tr>\n",
       "      <th>Unità</th>\n",
       "      <td>24446</td>\n",
       "      <td>99.572</td>\n",
       "    </tr>\n",
       "    <tr>\n",
       "      <th>Data inizio e fine lavori</th>\n",
       "      <td>24443</td>\n",
       "      <td>99.560</td>\n",
       "    </tr>\n",
       "    <tr>\n",
       "      <th>Totale piani edificio</th>\n",
       "      <td>24392</td>\n",
       "      <td>99.352</td>\n",
       "    </tr>\n",
       "    <tr>\n",
       "      <th>Posti Auto</th>\n",
       "      <td>24444</td>\n",
       "      <td>99.564</td>\n",
       "    </tr>\n",
       "    <tr>\n",
       "      <th>Spese aggiuntive</th>\n",
       "      <td>24548</td>\n",
       "      <td>99.988</td>\n",
       "    </tr>\n",
       "  </tbody>\n",
       "</table>\n",
       "</div>"
      ],
      "text/plain": [
       "                            NaNs  NaNs in %\n",
       "Tipologia                      1      0.004\n",
       "Contratto                      1      0.004\n",
       "Piano                        267      1.088\n",
       "Piani edificio              1029      4.191\n",
       "Ascensore                   1333      5.430\n",
       "Superficie                   116      0.472\n",
       "Locali                       180      0.733\n",
       "Camere da letto              888      3.617\n",
       "Bagni                        668      2.721\n",
       "Terrazzo                    2899     11.808\n",
       "Riscaldamento               1498      6.102\n",
       "Prezzo                       112      0.456\n",
       "Cucina                      2821     11.490\n",
       "Arredato                    4427     18.032\n",
       "Balcone                     2380      9.694\n",
       "Box, posti auto            13929     56.735\n",
       "Climatizzazione            10026     40.837\n",
       "Spese condominio            5155     20.997\n",
       "Spese riscaldamento        19762     80.494\n",
       "Disponibilità              24408     99.418\n",
       "Uso edificio attuale       24401     99.389\n",
       "Unità                      24446     99.572\n",
       "Data inizio e fine lavori  24443     99.560\n",
       "Totale piani edificio      24392     99.352\n",
       "Posti Auto                 24444     99.564\n",
       "Spese aggiuntive           24548     99.988"
      ]
     },
     "execution_count": 10,
     "metadata": {},
     "output_type": "execute_result"
    }
   ],
   "source": [
    "nans_columns_df"
   ]
  },
  {
   "cell_type": "code",
   "execution_count": 11,
   "id": "8cd98dd4-c0ce-420b-bc3e-41b96b00bee8",
   "metadata": {},
   "outputs": [
    {
     "data": {
      "text/html": [
       "<div>\n",
       "<style scoped>\n",
       "    .dataframe tbody tr th:only-of-type {\n",
       "        vertical-align: middle;\n",
       "    }\n",
       "\n",
       "    .dataframe tbody tr th {\n",
       "        vertical-align: top;\n",
       "    }\n",
       "\n",
       "    .dataframe thead th {\n",
       "        text-align: right;\n",
       "    }\n",
       "</style>\n",
       "<table border=\"1\" class=\"dataframe\">\n",
       "  <thead>\n",
       "    <tr style=\"text-align: right;\">\n",
       "      <th></th>\n",
       "      <th>NaNs</th>\n",
       "      <th>NaNs in %</th>\n",
       "    </tr>\n",
       "  </thead>\n",
       "  <tbody>\n",
       "    <tr>\n",
       "      <th>Box, posti auto</th>\n",
       "      <td>13929</td>\n",
       "      <td>56.735</td>\n",
       "    </tr>\n",
       "    <tr>\n",
       "      <th>Climatizzazione</th>\n",
       "      <td>10026</td>\n",
       "      <td>40.837</td>\n",
       "    </tr>\n",
       "    <tr>\n",
       "      <th>Spese condominio</th>\n",
       "      <td>5155</td>\n",
       "      <td>20.997</td>\n",
       "    </tr>\n",
       "    <tr>\n",
       "      <th>Spese riscaldamento</th>\n",
       "      <td>19762</td>\n",
       "      <td>80.494</td>\n",
       "    </tr>\n",
       "    <tr>\n",
       "      <th>Disponibilità</th>\n",
       "      <td>24408</td>\n",
       "      <td>99.418</td>\n",
       "    </tr>\n",
       "    <tr>\n",
       "      <th>Uso edificio attuale</th>\n",
       "      <td>24401</td>\n",
       "      <td>99.389</td>\n",
       "    </tr>\n",
       "    <tr>\n",
       "      <th>Unità</th>\n",
       "      <td>24446</td>\n",
       "      <td>99.572</td>\n",
       "    </tr>\n",
       "    <tr>\n",
       "      <th>Data inizio e fine lavori</th>\n",
       "      <td>24443</td>\n",
       "      <td>99.560</td>\n",
       "    </tr>\n",
       "    <tr>\n",
       "      <th>Totale piani edificio</th>\n",
       "      <td>24392</td>\n",
       "      <td>99.352</td>\n",
       "    </tr>\n",
       "    <tr>\n",
       "      <th>Posti Auto</th>\n",
       "      <td>24444</td>\n",
       "      <td>99.564</td>\n",
       "    </tr>\n",
       "    <tr>\n",
       "      <th>Spese aggiuntive</th>\n",
       "      <td>24548</td>\n",
       "      <td>99.988</td>\n",
       "    </tr>\n",
       "  </tbody>\n",
       "</table>\n",
       "</div>"
      ],
      "text/plain": [
       "                            NaNs  NaNs in %\n",
       "Box, posti auto            13929     56.735\n",
       "Climatizzazione            10026     40.837\n",
       "Spese condominio            5155     20.997\n",
       "Spese riscaldamento        19762     80.494\n",
       "Disponibilità              24408     99.418\n",
       "Uso edificio attuale       24401     99.389\n",
       "Unità                      24446     99.572\n",
       "Data inizio e fine lavori  24443     99.560\n",
       "Totale piani edificio      24392     99.352\n",
       "Posti Auto                 24444     99.564\n",
       "Spese aggiuntive           24548     99.988"
      ]
     },
     "execution_count": 11,
     "metadata": {},
     "output_type": "execute_result"
    }
   ],
   "source": [
    "nans_columns_df[nans_columns_df['NaNs in %'] > 20]"
   ]
  },
  {
   "cell_type": "code",
   "execution_count": 12,
   "id": "e31e4528-5679-4fd3-ad39-f9b07a55fcba",
   "metadata": {},
   "outputs": [],
   "source": [
    "# Remove the columns with more than 60% of NaN values\n",
    "df = df.dropna(axis=1, thresh= .4 * len(df))"
   ]
  },
  {
   "cell_type": "code",
   "execution_count": 13,
   "id": "5beb39f9-ec9e-4da5-878a-2c48041c8d04",
   "metadata": {},
   "outputs": [
    {
     "data": {
      "text/plain": [
       "Tipologia           False\n",
       "Contratto           False\n",
       "Piano               False\n",
       "Piani edificio      False\n",
       "Ascensore           False\n",
       "Superficie          False\n",
       "Locali              False\n",
       "Camere da letto     False\n",
       "Bagni               False\n",
       "Terrazzo            False\n",
       "Riscaldamento       False\n",
       "Prezzo              False\n",
       "Cucina               True\n",
       "Arredato             True\n",
       "Balcone              True\n",
       "Box, posti auto      True\n",
       "Climatizzazione      True\n",
       "Spese condominio     True\n",
       "Name: 0, dtype: bool"
      ]
     },
     "execution_count": 13,
     "metadata": {},
     "output_type": "execute_result"
    }
   ],
   "source": [
    "df.loc[0].isna()"
   ]
  },
  {
   "cell_type": "code",
   "execution_count": 14,
   "id": "3ca09dc2-ede8-4f6a-b472-e4ed87406668",
   "metadata": {},
   "outputs": [],
   "source": [
    "def create_nans_rows_df():\n",
    "    nans_dict = {row: [df.loc[row].isna().sum(), \n",
    "                            round(df.loc[row].isna().sum() / len(df.columns) * 100, 3)] \n",
    "                   for row in range(len(df))}\n",
    "    nans_df = pd.DataFrame(nans_dict, ['NaNs', 'NaNs in %'])\n",
    "    nans_df = nans_df.transpose()\n",
    "    nans_df['NaNs'] = nans_df['NaNs'].astype(int)\n",
    "    return nans_df"
   ]
  },
  {
   "cell_type": "code",
   "execution_count": 15,
   "id": "b1fe1953-b11a-43e2-bd99-9da61ec37abc",
   "metadata": {},
   "outputs": [],
   "source": [
    "# After elements removal change the index\n",
    "df.index = list(range(len(df)))"
   ]
  },
  {
   "cell_type": "code",
   "execution_count": 16,
   "id": "59145803-e19d-46d9-8660-1f746c4bc39a",
   "metadata": {},
   "outputs": [],
   "source": [
    "nans_rows_df = create_nans_rows_df()"
   ]
  },
  {
   "cell_type": "code",
   "execution_count": 17,
   "id": "adfa1879-ec33-49ed-9766-05aab2279925",
   "metadata": {},
   "outputs": [
    {
     "data": {
      "text/html": [
       "<div>\n",
       "<style scoped>\n",
       "    .dataframe tbody tr th:only-of-type {\n",
       "        vertical-align: middle;\n",
       "    }\n",
       "\n",
       "    .dataframe tbody tr th {\n",
       "        vertical-align: top;\n",
       "    }\n",
       "\n",
       "    .dataframe thead th {\n",
       "        text-align: right;\n",
       "    }\n",
       "</style>\n",
       "<table border=\"1\" class=\"dataframe\">\n",
       "  <thead>\n",
       "    <tr style=\"text-align: right;\">\n",
       "      <th></th>\n",
       "      <th>NaNs</th>\n",
       "      <th>NaNs in %</th>\n",
       "    </tr>\n",
       "  </thead>\n",
       "  <tbody>\n",
       "    <tr>\n",
       "      <th>0</th>\n",
       "      <td>6</td>\n",
       "      <td>33.333</td>\n",
       "    </tr>\n",
       "    <tr>\n",
       "      <th>1</th>\n",
       "      <td>0</td>\n",
       "      <td>0.000</td>\n",
       "    </tr>\n",
       "    <tr>\n",
       "      <th>2</th>\n",
       "      <td>1</td>\n",
       "      <td>5.556</td>\n",
       "    </tr>\n",
       "    <tr>\n",
       "      <th>3</th>\n",
       "      <td>1</td>\n",
       "      <td>5.556</td>\n",
       "    </tr>\n",
       "    <tr>\n",
       "      <th>4</th>\n",
       "      <td>2</td>\n",
       "      <td>11.111</td>\n",
       "    </tr>\n",
       "    <tr>\n",
       "      <th>...</th>\n",
       "      <td>...</td>\n",
       "      <td>...</td>\n",
       "    </tr>\n",
       "    <tr>\n",
       "      <th>24546</th>\n",
       "      <td>1</td>\n",
       "      <td>5.556</td>\n",
       "    </tr>\n",
       "    <tr>\n",
       "      <th>24547</th>\n",
       "      <td>2</td>\n",
       "      <td>11.111</td>\n",
       "    </tr>\n",
       "    <tr>\n",
       "      <th>24548</th>\n",
       "      <td>5</td>\n",
       "      <td>27.778</td>\n",
       "    </tr>\n",
       "    <tr>\n",
       "      <th>24549</th>\n",
       "      <td>1</td>\n",
       "      <td>5.556</td>\n",
       "    </tr>\n",
       "    <tr>\n",
       "      <th>24550</th>\n",
       "      <td>1</td>\n",
       "      <td>5.556</td>\n",
       "    </tr>\n",
       "  </tbody>\n",
       "</table>\n",
       "<p>24551 rows × 2 columns</p>\n",
       "</div>"
      ],
      "text/plain": [
       "       NaNs  NaNs in %\n",
       "0         6     33.333\n",
       "1         0      0.000\n",
       "2         1      5.556\n",
       "3         1      5.556\n",
       "4         2     11.111\n",
       "...     ...        ...\n",
       "24546     1      5.556\n",
       "24547     2     11.111\n",
       "24548     5     27.778\n",
       "24549     1      5.556\n",
       "24550     1      5.556\n",
       "\n",
       "[24551 rows x 2 columns]"
      ]
     },
     "execution_count": 17,
     "metadata": {},
     "output_type": "execute_result"
    }
   ],
   "source": [
    "nans_rows_df"
   ]
  },
  {
   "cell_type": "code",
   "execution_count": 18,
   "id": "3c5ea104-8bf0-4062-bdfa-d00bcda4e55c",
   "metadata": {},
   "outputs": [],
   "source": [
    "df = df[df.isna().sum(axis=1) <= 3]"
   ]
  },
  {
   "cell_type": "code",
   "execution_count": 19,
   "id": "3de96679-8ab6-4888-9f3f-adcd46c11556",
   "metadata": {},
   "outputs": [
    {
     "data": {
      "text/plain": [
       "21036"
      ]
     },
     "execution_count": 19,
     "metadata": {},
     "output_type": "execute_result"
    }
   ],
   "source": [
    "len(df)"
   ]
  },
  {
   "cell_type": "code",
   "execution_count": 20,
   "id": "6dea411b-b5e8-43a3-84fa-e5ee0da924a9",
   "metadata": {},
   "outputs": [],
   "source": [
    "# After elements removal change the index\n",
    "df.index = list(range(len(df)))"
   ]
  },
  {
   "cell_type": "code",
   "execution_count": 21,
   "id": "b75e7c30-0e75-4e88-a871-265c71f3df2c",
   "metadata": {},
   "outputs": [
    {
     "data": {
      "text/html": [
       "<div>\n",
       "<style scoped>\n",
       "    .dataframe tbody tr th:only-of-type {\n",
       "        vertical-align: middle;\n",
       "    }\n",
       "\n",
       "    .dataframe tbody tr th {\n",
       "        vertical-align: top;\n",
       "    }\n",
       "\n",
       "    .dataframe thead th {\n",
       "        text-align: right;\n",
       "    }\n",
       "</style>\n",
       "<table border=\"1\" class=\"dataframe\">\n",
       "  <thead>\n",
       "    <tr style=\"text-align: right;\">\n",
       "      <th></th>\n",
       "      <th>NaNs</th>\n",
       "      <th>NaNs in %</th>\n",
       "    </tr>\n",
       "  </thead>\n",
       "  <tbody>\n",
       "    <tr>\n",
       "      <th>1</th>\n",
       "      <td>0</td>\n",
       "      <td>0.0</td>\n",
       "    </tr>\n",
       "    <tr>\n",
       "      <th>7</th>\n",
       "      <td>0</td>\n",
       "      <td>0.0</td>\n",
       "    </tr>\n",
       "    <tr>\n",
       "      <th>15</th>\n",
       "      <td>0</td>\n",
       "      <td>0.0</td>\n",
       "    </tr>\n",
       "    <tr>\n",
       "      <th>20</th>\n",
       "      <td>0</td>\n",
       "      <td>0.0</td>\n",
       "    </tr>\n",
       "    <tr>\n",
       "      <th>24</th>\n",
       "      <td>0</td>\n",
       "      <td>0.0</td>\n",
       "    </tr>\n",
       "    <tr>\n",
       "      <th>...</th>\n",
       "      <td>...</td>\n",
       "      <td>...</td>\n",
       "    </tr>\n",
       "    <tr>\n",
       "      <th>24492</th>\n",
       "      <td>0</td>\n",
       "      <td>0.0</td>\n",
       "    </tr>\n",
       "    <tr>\n",
       "      <th>24499</th>\n",
       "      <td>0</td>\n",
       "      <td>0.0</td>\n",
       "    </tr>\n",
       "    <tr>\n",
       "      <th>24522</th>\n",
       "      <td>0</td>\n",
       "      <td>0.0</td>\n",
       "    </tr>\n",
       "    <tr>\n",
       "      <th>24524</th>\n",
       "      <td>0</td>\n",
       "      <td>0.0</td>\n",
       "    </tr>\n",
       "    <tr>\n",
       "      <th>24542</th>\n",
       "      <td>0</td>\n",
       "      <td>0.0</td>\n",
       "    </tr>\n",
       "  </tbody>\n",
       "</table>\n",
       "<p>4658 rows × 2 columns</p>\n",
       "</div>"
      ],
      "text/plain": [
       "       NaNs  NaNs in %\n",
       "1         0        0.0\n",
       "7         0        0.0\n",
       "15        0        0.0\n",
       "20        0        0.0\n",
       "24        0        0.0\n",
       "...     ...        ...\n",
       "24492     0        0.0\n",
       "24499     0        0.0\n",
       "24522     0        0.0\n",
       "24524     0        0.0\n",
       "24542     0        0.0\n",
       "\n",
       "[4658 rows x 2 columns]"
      ]
     },
     "execution_count": 21,
     "metadata": {},
     "output_type": "execute_result"
    }
   ],
   "source": [
    "nans_rows_df[nans_rows_df['NaNs'] < 1]"
   ]
  },
  {
   "cell_type": "code",
   "execution_count": 22,
   "id": "17b5bbee-ba5f-48c9-8693-0ea2e0d889f8",
   "metadata": {},
   "outputs": [],
   "source": [
    "save_df('cleaned_columns')"
   ]
  },
  {
   "cell_type": "code",
   "execution_count": 23,
   "id": "3c9d972d-7312-4183-a0be-0bf9fd15acc0",
   "metadata": {},
   "outputs": [],
   "source": [
    "all_unique_categories = set()\n",
    "\n",
    "for categories in list(dict(df['Tipologia'].value_counts()).keys()):\n",
    "    splitted_categories = categories.split(' | ')\n",
    "    for category in splitted_categories:\n",
    "        all_unique_categories.add(category)\n",
    "        \n",
    "empty_lists = [[] for category in all_unique_categories]\n",
    "categories_dict = dict(zip(all_unique_categories, empty_lists))\n",
    "for house_number in range(len(df)):\n",
    "    for key, value in categories_dict.items():\n",
    "        if key in df.loc[house_number, 'Tipologia']:\n",
    "            value.append(1)\n",
    "        else:\n",
    "            value.append(0)\n",
    "\n",
    "categories_df = pd.DataFrame(categories_dict)"
   ]
  },
  {
   "cell_type": "code",
   "execution_count": 24,
   "id": "04544d49-afdb-4c5e-b351-4234666411af",
   "metadata": {},
   "outputs": [],
   "source": [
    "df = pd.concat([df, categories_df], axis=1)"
   ]
  },
  {
   "cell_type": "code",
   "execution_count": 25,
   "id": "9d980663-9457-4612-b718-61977632d8da",
   "metadata": {},
   "outputs": [],
   "source": [
    "df.drop('Tipologia', axis=1, inplace=True)"
   ]
  },
  {
   "cell_type": "code",
   "execution_count": 26,
   "id": "82392f4a-ed8e-4a9e-859b-90a0c19d84a8",
   "metadata": {},
   "outputs": [],
   "source": [
    "save_df('encoded_type')"
   ]
  },
  {
   "cell_type": "code",
   "execution_count": 27,
   "id": "9cacc5fc-30eb-49c5-a88e-d91f3b08aeac",
   "metadata": {},
   "outputs": [],
   "source": [
    "property_income = []\n",
    "\n",
    "for contract in df['Contratto']:\n",
    "    if 'Immobile a reddito' in contract:\n",
    "        property_income.append(1)\n",
    "    else:\n",
    "        property_income.append(0)"
   ]
  },
  {
   "cell_type": "code",
   "execution_count": 28,
   "id": "235dbb2c-82f2-4ea4-8dde-8a32d22f8569",
   "metadata": {},
   "outputs": [],
   "source": [
    "df.rename(columns={'Contratto': 'Immobile a reddito'}, inplace=True)"
   ]
  },
  {
   "cell_type": "code",
   "execution_count": 29,
   "id": "0ec5c8be-8cc2-47b0-8c5f-864900d487ab",
   "metadata": {},
   "outputs": [
    {
     "data": {
      "text/plain": [
       "21036"
      ]
     },
     "execution_count": 29,
     "metadata": {},
     "output_type": "execute_result"
    }
   ],
   "source": [
    "len(property_income)"
   ]
  },
  {
   "cell_type": "code",
   "execution_count": 30,
   "id": "2a283b3e-de0b-4200-8161-94ba778c91f6",
   "metadata": {},
   "outputs": [],
   "source": [
    "df['Immobile a reddito'] = property_income"
   ]
  },
  {
   "cell_type": "code",
   "execution_count": 31,
   "id": "d5fd6d7d-1b6d-4b77-8e24-ecda7d3b6a4b",
   "metadata": {},
   "outputs": [],
   "source": [
    "save_df('encoded_contract')"
   ]
  },
  {
   "cell_type": "code",
   "execution_count": 32,
   "id": "feabda6e-0d8b-42c4-a6e3-71aeb3407039",
   "metadata": {},
   "outputs": [],
   "source": [
    "floors_dict = {\n",
    "    '1': 1, '2': 2, '3': 3, '4': 4, '5': 5, '6': 6, '7': 7, '8': 8, '9': 9, '10': 10,\n",
    "    '11': 11, '12': 12, '13': 13, '14': 14, '15': 15, '20': 20, '23': 23, '27': 27,\n",
    "    'Piano terra': 0,\n",
    "    'Piano rialzato': 0.5,\n",
    "    'Seminterrato': -1\n",
    "}"
   ]
  },
  {
   "cell_type": "code",
   "execution_count": 33,
   "id": "3f3d03f7-fbf1-4921-9078-7733d51285fa",
   "metadata": {},
   "outputs": [],
   "source": [
    "house_number = 0\n",
    "for floor in df['Piano']:\n",
    "    if df.loc[house_number, 'Piano'] in floors_dict:\n",
    "        df.loc[house_number, 'Piano'] = floors_dict[floor]\n",
    "    elif isinstance(floor, str):\n",
    "        df.loc[house_number, 'Piano'] = -2\n",
    "    house_number += 1"
   ]
  },
  {
   "cell_type": "code",
   "execution_count": 34,
   "id": "7ba355fb-7cab-4d53-982a-df19de7e4bfa",
   "metadata": {},
   "outputs": [
    {
     "data": {
      "text/plain": [
       "Piano\n",
       "1      4097\n",
       "0      3895\n",
       "2      3248\n",
       "3      2466\n",
       "-2     2339\n",
       "4      1720\n",
       "5      1073\n",
       "0.5     698\n",
       "6       519\n",
       "7       361\n",
       "-1      271\n",
       "8       210\n",
       "9        34\n",
       "10       14\n",
       "13        8\n",
       "11        5\n",
       "14        4\n",
       "12        4\n",
       "23        2\n",
       "27        1\n",
       "20        1\n",
       "15        1\n",
       "Name: count, dtype: int64"
      ]
     },
     "execution_count": 34,
     "metadata": {},
     "output_type": "execute_result"
    }
   ],
   "source": [
    "df['Piano'].value_counts()"
   ]
  },
  {
   "cell_type": "code",
   "execution_count": 35,
   "id": "b9b8784d-cf6a-4d18-99bc-222a5f31ea27",
   "metadata": {},
   "outputs": [
    {
     "name": "stderr",
     "output_type": "stream",
     "text": [
      "C:\\Users\\kevin\\AppData\\Local\\Temp\\ipykernel_3492\\3595995499.py:1: FutureWarning: Downcasting object dtype arrays on .fillna, .ffill, .bfill is deprecated and will change in a future version. Call result.infer_objects(copy=False) instead. To opt-in to the future behavior, set `pd.set_option('future.no_silent_downcasting', True)`\n",
      "  df['Piano'] = df['Piano'].fillna(-2)\n"
     ]
    }
   ],
   "source": [
    "df['Piano'] = df['Piano'].fillna(-2)"
   ]
  },
  {
   "cell_type": "code",
   "execution_count": 36,
   "id": "23c018da-690f-4248-acb6-59c9ccba6164",
   "metadata": {},
   "outputs": [],
   "source": [
    "pd.set_option('display.max_rows', 10)"
   ]
  },
  {
   "cell_type": "code",
   "execution_count": 37,
   "id": "387eea7b-4aef-4c5a-a001-93ce6b14ea6c",
   "metadata": {},
   "outputs": [],
   "source": [
    "save_df('floors_encoded_3')"
   ]
  },
  {
   "cell_type": "code",
   "execution_count": 38,
   "id": "c70fae28-acc5-46b9-9179-2289b6b7abdf",
   "metadata": {},
   "outputs": [
    {
     "data": {
      "text/plain": [
       "Piani edificio\n",
       "5.0     4549\n",
       "4.0     4364\n",
       "3.0     3645\n",
       "2.0     2845\n",
       "6.0     1580\n",
       "        ... \n",
       "85.0       1\n",
       "33.0       1\n",
       "23.0       1\n",
       "26.0       1\n",
       "30.0       1\n",
       "Name: count, Length: 27, dtype: int64"
      ]
     },
     "execution_count": 38,
     "metadata": {},
     "output_type": "execute_result"
    }
   ],
   "source": [
    "df['Piani edificio'].value_counts()"
   ]
  },
  {
   "cell_type": "code",
   "execution_count": 39,
   "id": "5a1c19d5-83ea-4571-b867-1e6d05e00dee",
   "metadata": {},
   "outputs": [
    {
     "data": {
      "text/plain": [
       "178"
      ]
     },
     "execution_count": 39,
     "metadata": {},
     "output_type": "execute_result"
    }
   ],
   "source": [
    "df['Piani edificio'].isna().sum()"
   ]
  },
  {
   "cell_type": "code",
   "execution_count": 40,
   "id": "fb93a92c-bd5c-4511-8b6c-ed98c36b9002",
   "metadata": {},
   "outputs": [
    {
     "data": {
      "text/plain": [
       "count    20858.000000\n",
       "mean         4.336418\n",
       "std          2.270088\n",
       "min          1.000000\n",
       "25%          3.000000\n",
       "50%          4.000000\n",
       "75%          5.000000\n",
       "max        110.000000\n",
       "Name: Piani edificio, dtype: float64"
      ]
     },
     "execution_count": 40,
     "metadata": {},
     "output_type": "execute_result"
    }
   ],
   "source": [
    "df['Piani edificio'].describe()"
   ]
  },
  {
   "cell_type": "code",
   "execution_count": 41,
   "id": "eb1aa85d-993f-4ed8-8dc5-f952b7ea5963",
   "metadata": {},
   "outputs": [
    {
     "data": {
      "image/png": "[encoded data removed]",
      "text/plain": [
       "<Figure size 640x480 with 1 Axes>"
      ]
     },
     "metadata": {},
     "output_type": "display_data"
    }
   ],
   "source": [
    "import matplotlib.pyplot as plt\n",
    "import seaborn as sns\n",
    "\n",
    "sns.kdeplot(df['Piani edificio'])\n",
    "plt.xlim([0, 20])\n",
    "plt.show()"
   ]
  },
  {
   "cell_type": "code",
   "execution_count": 42,
   "id": "3eba4aef-672f-4dfb-832a-385f5361afe8",
   "metadata": {},
   "outputs": [],
   "source": [
    "df['Piani edificio'] = df['Piani edificio'].fillna(df['Piani edificio'].median())"
   ]
  },
  {
   "cell_type": "code",
   "execution_count": 43,
   "id": "11da29da-0f92-4881-bdb8-8526ecb0561d",
   "metadata": {},
   "outputs": [],
   "source": [
    "df['Piani edificio'] = df['Piani edificio'].astype(int)"
   ]
  },
  {
   "cell_type": "code",
   "execution_count": 44,
   "id": "ad9f522c-9908-4a36-a817-d37fe0033ad3",
   "metadata": {},
   "outputs": [
    {
     "data": {
      "text/plain": [
       "Piani edificio\n",
       "5     4549\n",
       "4     4542\n",
       "3     3645\n",
       "2     2845\n",
       "6     1580\n",
       "      ... \n",
       "85       1\n",
       "33       1\n",
       "23       1\n",
       "26       1\n",
       "30       1\n",
       "Name: count, Length: 27, dtype: int64"
      ]
     },
     "execution_count": 44,
     "metadata": {},
     "output_type": "execute_result"
    }
   ],
   "source": [
    "df['Piani edificio'].value_counts()"
   ]
  },
  {
   "cell_type": "code",
   "execution_count": 45,
   "id": "44649ba4-a66a-4aa0-b5e1-177b785a942d",
   "metadata": {},
   "outputs": [],
   "source": [
    "pd.set_option('display.max_rows', 10)"
   ]
  },
  {
   "cell_type": "code",
   "execution_count": 46,
   "id": "9ce2eaa2-3de7-4c4e-a8f6-6581c1461d15",
   "metadata": {},
   "outputs": [],
   "source": [
    "save_df('building_floors_4')"
   ]
  },
  {
   "cell_type": "code",
   "execution_count": 47,
   "id": "46d9ef0d-22dc-4f78-8999-d257321345c0",
   "metadata": {},
   "outputs": [
    {
     "data": {
      "text/plain": [
       "275"
      ]
     },
     "execution_count": 47,
     "metadata": {},
     "output_type": "execute_result"
    }
   ],
   "source": [
    "df['Ascensore'].isna().sum()"
   ]
  },
  {
   "cell_type": "code",
   "execution_count": 48,
   "id": "c4a9fdc1-fd7a-47de-973a-299100e7aca8",
   "metadata": {},
   "outputs": [
    {
     "data": {
      "text/plain": [
       "Ascensore\n",
       "Sì    14100\n",
       "No     6661\n",
       "Name: count, dtype: int64"
      ]
     },
     "execution_count": 48,
     "metadata": {},
     "output_type": "execute_result"
    }
   ],
   "source": [
    "df['Ascensore'].value_counts()"
   ]
  },
  {
   "cell_type": "code",
   "execution_count": 49,
   "id": "5d369de4-9f29-4a6f-bbc8-7307fffd30c7",
   "metadata": {},
   "outputs": [],
   "source": [
    "df['Ascensore'] = df['Ascensore'].fillna('No')"
   ]
  },
  {
   "cell_type": "code",
   "execution_count": 50,
   "id": "b85efcc2-ff3b-47a4-a71c-980fd7409657",
   "metadata": {},
   "outputs": [
    {
     "name": "stderr",
     "output_type": "stream",
     "text": [
      "C:\\Users\\kevin\\AppData\\Local\\Temp\\ipykernel_3492\\1412948510.py:1: FutureWarning: Downcasting behavior in `replace` is deprecated and will be removed in a future version. To retain the old behavior, explicitly call `result.infer_objects(copy=False)`. To opt-in to the future behavior, set `pd.set_option('future.no_silent_downcasting', True)`\n",
      "  df['Ascensore'] = df['Ascensore'].replace({'Sì': 1, 'No': 0})\n"
     ]
    }
   ],
   "source": [
    "df['Ascensore'] = df['Ascensore'].replace({'Sì': 1, 'No': 0})"
   ]
  },
  {
   "cell_type": "code",
   "execution_count": 51,
   "id": "a1328bd4-ba10-4e89-bc40-fc90510e807f",
   "metadata": {},
   "outputs": [],
   "source": [
    "save_df('elevators_encoded_5')"
   ]
  },
  {
   "cell_type": "code",
   "execution_count": 52,
   "id": "890bfaa8-b4af-44ec-a892-c366c66a5019",
   "metadata": {},
   "outputs": [],
   "source": [
    "df['Superficie_pulita'] = df['Superficie'].str.extract(r'(\\d{1,3}(?:\\.\\d{3})*|\\d+)\\s*m²(?=[^\\d]*$)')"
   ]
  },
  {
   "cell_type": "code",
   "execution_count": 53,
   "id": "a79ee7be-1b51-4e39-8ebd-fa1090341998",
   "metadata": {},
   "outputs": [
    {
     "data": {
      "text/plain": [
       "0"
      ]
     },
     "execution_count": 53,
     "metadata": {},
     "output_type": "execute_result"
    }
   ],
   "source": [
    "df['Superficie_pulita'].isna().sum()"
   ]
  },
  {
   "cell_type": "code",
   "execution_count": 54,
   "id": "752326d2-022c-46a7-8a85-59e46ebab0bf",
   "metadata": {},
   "outputs": [],
   "source": [
    "df['Superficie_pulita'] = df['Superficie_pulita'].fillna('0')"
   ]
  },
  {
   "cell_type": "code",
   "execution_count": 55,
   "id": "d514141b-8536-4a11-9011-30b92ab0c682",
   "metadata": {},
   "outputs": [],
   "source": [
    "df['Superficie_pulita'] = df['Superficie_pulita'].str.replace('.', '', regex=False)"
   ]
  },
  {
   "cell_type": "code",
   "execution_count": 56,
   "id": "1b7e69c3-9d84-4293-99a8-dcc1f8378646",
   "metadata": {},
   "outputs": [],
   "source": [
    "df['Superficie_pulita'] = df['Superficie_pulita'].astype(int)"
   ]
  },
  {
   "cell_type": "code",
   "execution_count": 57,
   "id": "85abf96b-267a-42e1-bd68-08727f799f20",
   "metadata": {},
   "outputs": [],
   "source": [
    "df['Superficie'] = df['Superficie_pulita']"
   ]
  },
  {
   "cell_type": "code",
   "execution_count": 58,
   "id": "98f037ee-0161-449e-afb2-00b3a5845103",
   "metadata": {},
   "outputs": [],
   "source": [
    "df.drop('Superficie_pulita', axis=1, inplace=True)"
   ]
  },
  {
   "cell_type": "code",
   "execution_count": 59,
   "id": "915f6389-7045-447d-971d-64563219b29b",
   "metadata": {},
   "outputs": [
    {
     "data": {
      "text/plain": [
       "0         50\n",
       "1         28\n",
       "2         80\n",
       "3        103\n",
       "4         32\n",
       "        ... \n",
       "21031    240\n",
       "21032     60\n",
       "21033    217\n",
       "21034    100\n",
       "21035    180\n",
       "Name: Superficie, Length: 21036, dtype: int32"
      ]
     },
     "execution_count": 59,
     "metadata": {},
     "output_type": "execute_result"
    }
   ],
   "source": [
    "df['Superficie'].replace({0: df['Superficie'].median()})"
   ]
  },
  {
   "cell_type": "code",
   "execution_count": 60,
   "id": "efbb5954-2093-411d-b98f-3c1e14dacd32",
   "metadata": {},
   "outputs": [],
   "source": [
    "save_df('surface_encoded_6')"
   ]
  },
  {
   "cell_type": "code",
   "execution_count": 61,
   "id": "3cc9c22c-d852-495d-893f-7d28b37e0659",
   "metadata": {},
   "outputs": [
    {
     "data": {
      "text/plain": [
       "['3', '2', '4', '5+', '5', '1']"
      ]
     },
     "execution_count": 61,
     "metadata": {},
     "output_type": "execute_result"
    }
   ],
   "source": [
    "list(dict(df['Locali'].value_counts()).keys())"
   ]
  },
  {
   "cell_type": "code",
   "execution_count": 62,
   "id": "42b55f05-bdd7-4e44-8c92-8a1939f368a0",
   "metadata": {},
   "outputs": [],
   "source": [
    "pd.set_option('display.max_rows', None)"
   ]
  },
  {
   "cell_type": "code",
   "execution_count": 63,
   "id": "3d1b081d-68f1-45eb-ae4e-cecb140fcdc7",
   "metadata": {},
   "outputs": [],
   "source": [
    "df['Locali'] = df['Locali'].replace({'5+': 6})"
   ]
  },
  {
   "cell_type": "code",
   "execution_count": 64,
   "id": "47ed8469-65fe-4907-a2c4-fe15f8c472ca",
   "metadata": {},
   "outputs": [],
   "source": [
    "for house_number in range(len(df)):\n",
    "    try:\n",
    "        if '3+ bagni' in df.loc[house_number, 'Locali']:\n",
    "            df.loc[house_number, 'Bagni'] = 4\n",
    "        elif '2 bagni' in df.loc[house_number, 'Locali']:\n",
    "            df.loc[house_number, 'Bagni'] = 2\n",
    "        elif '3 bagni' in df.loc[house_number, 'Locali']:\n",
    "            df.loc[house_number, 'Bagni'] = 3\n",
    "        elif '1 bagno' in df.loc[house_number, 'Locali']:\n",
    "            df.loc[house_number, 'Bagni'] = 1\n",
    "    except TypeError:\n",
    "        pass"
   ]
  },
  {
   "cell_type": "code",
   "execution_count": 65,
   "id": "91f3a25a-01d1-464d-ab71-f2a51e3182a3",
   "metadata": {},
   "outputs": [],
   "source": [
    "for house_number in range(len(df)):\n",
    "    try:\n",
    "        if '1 locale' in df.loc[house_number, 'Locali']:\n",
    "            df.loc[house_number, 'Locali'] = 1\n",
    "        elif '5+ locali' in df.loc[house_number, 'Locali']:\n",
    "            df.loc[house_number, 'Locali'] = 6\n",
    "        elif '5 locali' in df.loc[house_number, 'Locali']:\n",
    "            df.loc[house_number, 'Locali'] = 5\n",
    "        elif '4 locali' in df.loc[house_number, 'Locali']:\n",
    "            df.loc[house_number, 'Locali'] = 4\n",
    "        elif '3 locali' in df.loc[house_number, 'Locali']:\n",
    "            df.loc[house_number, 'Locali'] = 3\n",
    "        elif '2 locali' in df.loc[house_number, 'Locali']:\n",
    "            df.loc[house_number, 'Locali'] = 2\n",
    "    except TypeError:\n",
    "        pass"
   ]
  },
  {
   "cell_type": "code",
   "execution_count": 66,
   "id": "b10677d0-ed9e-435c-b66c-50f7e832bc62",
   "metadata": {},
   "outputs": [],
   "source": [
    "df['Locali'] = pd.to_numeric(df['Locali'], errors='coerce').astype('Int64')"
   ]
  },
  {
   "cell_type": "code",
   "execution_count": 67,
   "id": "a2692132-8db5-4f27-b535-fb0b784b9ead",
   "metadata": {},
   "outputs": [],
   "source": [
    "df['Locali'] = df['Locali'].fillna(0)"
   ]
  },
  {
   "cell_type": "code",
   "execution_count": 68,
   "id": "52ba67b8-70c8-456d-8ddf-6581734f1b80",
   "metadata": {},
   "outputs": [
    {
     "data": {
      "image/png": "[encoded data removed]",
      "text/plain": [
       "<Figure size 640x480 with 1 Axes>"
      ]
     },
     "metadata": {},
     "output_type": "display_data"
    }
   ],
   "source": [
    "df['Locali'].hist(bins=40)\n",
    "plt.show()"
   ]
  },
  {
   "cell_type": "code",
   "execution_count": 69,
   "id": "d3983cd3-bd52-4516-bb30-dce906677488",
   "metadata": {},
   "outputs": [],
   "source": [
    "df['Locali'] = df['Locali'].replace({0: df['Locali'].median()})"
   ]
  },
  {
   "cell_type": "code",
   "execution_count": 70,
   "id": "146918a8-4cb2-442a-a672-78d7a9b02f5d",
   "metadata": {},
   "outputs": [],
   "source": [
    "save_df('locals_encoded_7')"
   ]
  },
  {
   "cell_type": "code",
   "execution_count": 71,
   "id": "da6fe333-3d3f-4029-8482-e3f2f6d6e14b",
   "metadata": {},
   "outputs": [
    {
     "data": {
      "text/plain": [
       "180"
      ]
     },
     "execution_count": 71,
     "metadata": {},
     "output_type": "execute_result"
    }
   ],
   "source": [
    "df['Camere da letto'].isna().sum()"
   ]
  },
  {
   "cell_type": "code",
   "execution_count": 72,
   "id": "6fcd65ea-3545-4ec5-8d50-d61f738f4be2",
   "metadata": {},
   "outputs": [
    {
     "data": {
      "text/plain": [
       "Camere da letto\n",
       "2.0     8467\n",
       "1.0     5005\n",
       "3.0     4819\n",
       "4.0     1584\n",
       "5.0      552\n",
       "6.0      185\n",
       "7.0       94\n",
       "8.0       55\n",
       "0.0       25\n",
       "10.0      22\n",
       "9.0       13\n",
       "12.0       7\n",
       "11.0       6\n",
       "14.0       5\n",
       "15.0       4\n",
       "13.0       3\n",
       "18.0       3\n",
       "16.0       2\n",
       "24.0       2\n",
       "20.0       1\n",
       "31.0       1\n",
       "28.0       1\n",
       "Name: count, dtype: int64"
      ]
     },
     "execution_count": 72,
     "metadata": {},
     "output_type": "execute_result"
    }
   ],
   "source": [
    "df['Camere da letto'].value_counts()"
   ]
  },
  {
   "cell_type": "code",
   "execution_count": 157,
   "id": "a92531a8-3b5b-4722-b5b4-b5fc2f7ba7f2",
   "metadata": {},
   "outputs": [],
   "source": [
    "pd.set_option('display.max_rows', 10)"
   ]
  },
  {
   "cell_type": "code",
   "execution_count": 74,
   "id": "1a0a029a-6a0f-4ee6-b809-b33975316d24",
   "metadata": {},
   "outputs": [
    {
     "data": {
      "image/png": "[encoded data removed]",
      "text/plain": [
       "<Figure size 640x480 with 1 Axes>"
      ]
     },
     "metadata": {},
     "output_type": "display_data"
    }
   ],
   "source": [
    "df['Camere da letto'].hist(bins=100)\n",
    "plt.xlim([0, 12])\n",
    "plt.show()"
   ]
  },
  {
   "cell_type": "code",
   "execution_count": 75,
   "id": "877f0b57-38f5-4f82-a42f-fd7b5f81165f",
   "metadata": {},
   "outputs": [],
   "source": [
    "df['Camere da letto'] = df['Camere da letto'].fillna(df['Camere da letto'].median())"
   ]
  },
  {
   "cell_type": "code",
   "execution_count": 76,
   "id": "d42944ef-9bc6-432f-9031-9ad10a1c7321",
   "metadata": {},
   "outputs": [],
   "source": [
    "df['Camere da letto'] = df['Camere da letto'].astype(int)"
   ]
  },
  {
   "cell_type": "code",
   "execution_count": 77,
   "id": "8ca426c7-a773-4012-ba43-f24ff85e8393",
   "metadata": {},
   "outputs": [],
   "source": [
    "save_df('bedrooms_encoded_8')"
   ]
  },
  {
   "cell_type": "code",
   "execution_count": 78,
   "id": "91f12768-a68d-443b-8b94-fad419d2b395",
   "metadata": {},
   "outputs": [
    {
     "data": {
      "text/plain": [
       "Bagni\n",
       "1     9658\n",
       "2     8219\n",
       "3     2007\n",
       "3+    1089\n",
       "Name: count, dtype: int64"
      ]
     },
     "execution_count": 78,
     "metadata": {},
     "output_type": "execute_result"
    }
   ],
   "source": [
    "df['Bagni'].value_counts()"
   ]
  },
  {
   "cell_type": "code",
   "execution_count": 79,
   "id": "b18912ac-53a5-4dc8-8f99-68527ce657b3",
   "metadata": {},
   "outputs": [
    {
     "data": {
      "text/plain": [
       "63"
      ]
     },
     "execution_count": 79,
     "metadata": {},
     "output_type": "execute_result"
    }
   ],
   "source": [
    "df['Bagni'].isna().sum()"
   ]
  },
  {
   "cell_type": "code",
   "execution_count": 80,
   "id": "7cc6f63f-4da5-4f52-b4cb-005415df7e27",
   "metadata": {},
   "outputs": [],
   "source": [
    "df['Bagni'] = df['Bagni'].fillna(0)"
   ]
  },
  {
   "cell_type": "code",
   "execution_count": 81,
   "id": "e6102462-325f-495f-8c04-9f1296fb41f7",
   "metadata": {},
   "outputs": [],
   "source": [
    "df['Bagni'] = df['Bagni'].replace({'3+': 4})"
   ]
  },
  {
   "cell_type": "code",
   "execution_count": 82,
   "id": "353020a2-1caa-47fd-a10a-370857887cd1",
   "metadata": {},
   "outputs": [],
   "source": [
    "df['Bagni'] = df['Bagni'].astype(int)"
   ]
  },
  {
   "cell_type": "code",
   "execution_count": 83,
   "id": "3500d72e-df50-4995-83fd-01f60da8c9bf",
   "metadata": {},
   "outputs": [
    {
     "data": {
      "image/png": "[encoded data removed]",
      "text/plain": [
       "<Figure size 640x480 with 1 Axes>"
      ]
     },
     "metadata": {},
     "output_type": "display_data"
    }
   ],
   "source": [
    "df['Bagni'].hist(bins=100)\n",
    "plt.show()"
   ]
  },
  {
   "cell_type": "code",
   "execution_count": 84,
   "id": "3747a676-d23e-4254-87b6-a41b36b67c1f",
   "metadata": {},
   "outputs": [],
   "source": [
    "df['Bagni'] = df['Bagni'].fillna(df['Bagni'].mode())"
   ]
  },
  {
   "cell_type": "code",
   "execution_count": 85,
   "id": "bac46de3-2ab9-484a-ba36-bf4b3509691c",
   "metadata": {},
   "outputs": [],
   "source": [
    "save_df('bathrooms_encoded_9')"
   ]
  },
  {
   "cell_type": "code",
   "execution_count": 86,
   "id": "83bd2d31-220d-411d-bd22-4ede6cc48edd",
   "metadata": {},
   "outputs": [
    {
     "data": {
      "text/plain": [
       "Terrazzo\n",
       "No    10806\n",
       "Sì     9274\n",
       "Name: count, dtype: int64"
      ]
     },
     "execution_count": 86,
     "metadata": {},
     "output_type": "execute_result"
    }
   ],
   "source": [
    "df['Terrazzo'].value_counts()"
   ]
  },
  {
   "cell_type": "code",
   "execution_count": 87,
   "id": "4d0d8a5f-7bc6-499f-9508-8a60647607ae",
   "metadata": {},
   "outputs": [
    {
     "data": {
      "text/plain": [
       "956"
      ]
     },
     "execution_count": 87,
     "metadata": {},
     "output_type": "execute_result"
    }
   ],
   "source": [
    "df['Terrazzo'].isna().sum()"
   ]
  },
  {
   "cell_type": "code",
   "execution_count": 88,
   "id": "2ebf6b4e-b8d1-4591-a538-c12d99f632d7",
   "metadata": {},
   "outputs": [],
   "source": [
    "df['Terrazzo'] = df['Terrazzo'].fillna('No')"
   ]
  },
  {
   "cell_type": "code",
   "execution_count": 89,
   "id": "39638983-a7ba-443f-aaad-9a735f7519aa",
   "metadata": {},
   "outputs": [
    {
     "name": "stderr",
     "output_type": "stream",
     "text": [
      "C:\\Users\\kevin\\AppData\\Local\\Temp\\ipykernel_3492\\3897600959.py:1: FutureWarning: Downcasting behavior in `replace` is deprecated and will be removed in a future version. To retain the old behavior, explicitly call `result.infer_objects(copy=False)`. To opt-in to the future behavior, set `pd.set_option('future.no_silent_downcasting', True)`\n",
      "  df['Terrazzo'] = df['Terrazzo'].replace({'Sì': 1, 'No': 0})\n"
     ]
    }
   ],
   "source": [
    "df['Terrazzo'] = df['Terrazzo'].replace({'Sì': 1, 'No': 0})"
   ]
  },
  {
   "cell_type": "code",
   "execution_count": 90,
   "id": "8853df97-9dd8-4656-a390-208b439f21d9",
   "metadata": {},
   "outputs": [],
   "source": [
    "save_df('terrace_encoded_10')"
   ]
  },
  {
   "cell_type": "code",
   "execution_count": 91,
   "id": "8e9accd2-a93c-4211-9e40-ae21d5f24422",
   "metadata": {},
   "outputs": [],
   "source": [
    "pd.set_option('display.max_rows', 10)"
   ]
  },
  {
   "cell_type": "code",
   "execution_count": 92,
   "id": "e35ba302-3950-457d-a070-1c99c65d8b38",
   "metadata": {},
   "outputs": [
    {
     "data": {
      "text/plain": [
       "Riscaldamento\n",
       "Autonomo, a radiatori, alimentato a metano         4826\n",
       "Autonomo, a radiatori, alimentato a gas            4786\n",
       "Centralizzato, a radiatori, alimentato a metano    2817\n",
       "Centralizzato, a radiatori, alimentato a gas       2113\n",
       "Autonomo                                           1449\n",
       "                                                   ... \n",
       "Autonomo, a pavimento, alimentato a gasolio           1\n",
       "Autonomo, ad aria, alimentato a pellet                1\n",
       "Autonomo, a stufa, alimentato a gasolio               1\n",
       "Centralizzato, alimentato a solare                    1\n",
       "Centralizzato, alimentato a fotovoltaico              1\n",
       "Name: count, Length: 87, dtype: int64"
      ]
     },
     "execution_count": 92,
     "metadata": {},
     "output_type": "execute_result"
    }
   ],
   "source": [
    "df['Riscaldamento'].value_counts()"
   ]
  },
  {
   "cell_type": "code",
   "execution_count": 93,
   "id": "11adbe2a-5381-4e07-aba1-938aab08fc54",
   "metadata": {},
   "outputs": [
    {
     "data": {
      "text/plain": [
       "470"
      ]
     },
     "execution_count": 93,
     "metadata": {},
     "output_type": "execute_result"
    }
   ],
   "source": [
    "df['Riscaldamento'].isna().sum()"
   ]
  },
  {
   "cell_type": "code",
   "execution_count": 94,
   "id": "4eb7136b-093b-4eeb-b753-cb96b19be22a",
   "metadata": {},
   "outputs": [],
   "source": [
    "df['Riscaldamento'] = df['Riscaldamento'].fillna('Riscaldamento assente')"
   ]
  },
  {
   "cell_type": "code",
   "execution_count": 95,
   "id": "abf9495b-3476-431c-a1a4-cbc32f4fd9eb",
   "metadata": {},
   "outputs": [],
   "source": [
    "all_unique_categories = set()\n",
    "\n",
    "for categories in list(dict(df['Riscaldamento'].value_counts()).keys()):\n",
    "    splitted_categories = categories.split(', ')\n",
    "    for category in splitted_categories:\n",
    "        all_unique_categories.add(category)\n",
    "        \n",
    "empty_lists = [[] for category in all_unique_categories]\n",
    "categories_dict = dict(zip(all_unique_categories, empty_lists))\n",
    "for house_number in range(len(df)):\n",
    "    for key, value in categories_dict.items():\n",
    "        if key in df.loc[house_number, 'Riscaldamento']:\n",
    "            value.append(1)\n",
    "        else:\n",
    "            value.append(0)\n",
    "\n",
    "categories_df = pd.DataFrame(categories_dict)"
   ]
  },
  {
   "cell_type": "code",
   "execution_count": 96,
   "id": "e91c5872-f4c2-493b-8565-64b40f7c411f",
   "metadata": {},
   "outputs": [],
   "source": [
    "df = pd.concat([df, categories_df], axis=1)"
   ]
  },
  {
   "cell_type": "code",
   "execution_count": 97,
   "id": "ff29da16-843f-48fb-8277-a1a63146526e",
   "metadata": {},
   "outputs": [],
   "source": [
    "df.drop('Riscaldamento', axis=1, inplace=True)"
   ]
  },
  {
   "cell_type": "code",
   "execution_count": 98,
   "id": "edd51ac8-fa17-47d4-aea2-4112ca109ca4",
   "metadata": {},
   "outputs": [],
   "source": [
    "save_df('heating_encoded_11')"
   ]
  },
  {
   "cell_type": "code",
   "execution_count": 99,
   "id": "50e9ee3a-2d18-4642-8790-0bb63f2054d1",
   "metadata": {},
   "outputs": [
    {
     "data": {
      "text/plain": [
       "0"
      ]
     },
     "execution_count": 99,
     "metadata": {},
     "output_type": "execute_result"
    }
   ],
   "source": [
    "df['Prezzo'].isna().sum()"
   ]
  },
  {
   "cell_type": "code",
   "execution_count": 100,
   "id": "306ac40f-28d2-41d9-be70-f54eb600dd75",
   "metadata": {},
   "outputs": [],
   "source": [
    "df = df.dropna(subset=['Prezzo'])"
   ]
  },
  {
   "cell_type": "code",
   "execution_count": 101,
   "id": "9a346d5b-043f-4e37-96b4-ddcaa4208259",
   "metadata": {},
   "outputs": [],
   "source": [
    "df['Prezzo'] =  df['Prezzo'].str.replace('€ ', '')"
   ]
  },
  {
   "cell_type": "code",
   "execution_count": 102,
   "id": "b9a9dc57-d931-49b7-8457-a42866131b5e",
   "metadata": {},
   "outputs": [],
   "source": [
    "df['Prezzo'] = df['Prezzo'].str.replace('.', '')"
   ]
  },
  {
   "cell_type": "code",
   "execution_count": 103,
   "id": "86d3eaf9-62de-4264-96b0-c02845c013e1",
   "metadata": {},
   "outputs": [],
   "source": [
    "df['Prezzo'] = df['Prezzo'].astype(int)"
   ]
  },
  {
   "cell_type": "code",
   "execution_count": 104,
   "id": "e6aaafa7-2479-4eef-a9a1-97b832b7afad",
   "metadata": {},
   "outputs": [
    {
     "data": {
      "image/png": "[encoded data removed]",
      "text/plain": [
       "<Figure size 640x480 with 1 Axes>"
      ]
     },
     "metadata": {},
     "output_type": "display_data"
    }
   ],
   "source": [
    "sns.lineplot(df['Prezzo'])\n",
    "plt.show()"
   ]
  },
  {
   "cell_type": "code",
   "execution_count": 105,
   "id": "7972660c-c9eb-4aba-8a62-34524dec4f40",
   "metadata": {},
   "outputs": [],
   "source": [
    "prices_count = df['Prezzo'].value_counts().sort_index()"
   ]
  },
  {
   "cell_type": "code",
   "execution_count": 106,
   "id": "ec2aadcc-2917-42b6-8cdc-3a49ccaabca1",
   "metadata": {},
   "outputs": [
    {
     "data": {
      "image/png": "[encoded data removed]",
      "text/plain": [
       "<Figure size 640x480 with 1 Axes>"
      ]
     },
     "metadata": {},
     "output_type": "display_data"
    }
   ],
   "source": [
    "plt.plot(prices_count.index, prices_count.values)\n",
    "plt.xlim([40_000, 1_000_000])\n",
    "plt.show()"
   ]
  },
  {
   "cell_type": "code",
   "execution_count": 107,
   "id": "5ec0266f-7bbb-4e17-9be5-606cc30a785c",
   "metadata": {},
   "outputs": [],
   "source": [
    "save_df('price_encoded_12')"
   ]
  },
  {
   "cell_type": "code",
   "execution_count": 108,
   "id": "54d72166-acf6-4b34-84bb-b47b23474e1e",
   "metadata": {},
   "outputs": [
    {
     "data": {
      "text/plain": [
       "Cucina\n",
       "Cucina abitabile         11127\n",
       "Cucina angolo cottura     4437\n",
       "Cucina a vista            1881\n",
       "Cucina semi abitabile     1630\n",
       "Cucina cucinotto           928\n",
       "Name: count, dtype: int64"
      ]
     },
     "execution_count": 108,
     "metadata": {},
     "output_type": "execute_result"
    }
   ],
   "source": [
    "df['Cucina'].value_counts()"
   ]
  },
  {
   "cell_type": "code",
   "execution_count": 109,
   "id": "77389da1-2b49-4f6b-b3f3-fb96f1b78bfe",
   "metadata": {},
   "outputs": [
    {
     "data": {
      "text/plain": [
       "1033"
      ]
     },
     "execution_count": 109,
     "metadata": {},
     "output_type": "execute_result"
    }
   ],
   "source": [
    "df['Cucina'].isna().sum()"
   ]
  },
  {
   "cell_type": "code",
   "execution_count": 110,
   "id": "c30d0e6b-1995-421e-a5e7-525074b32074",
   "metadata": {},
   "outputs": [],
   "source": [
    "df['Cucina'] = df['Cucina'].fillna('Cucina assente')"
   ]
  },
  {
   "cell_type": "code",
   "execution_count": 111,
   "id": "f8aa261d-a8f0-42ab-86e0-dccd5b5fdf59",
   "metadata": {},
   "outputs": [
    {
     "data": {
      "text/html": [
       "<div>\n",
       "<style scoped>\n",
       "    .dataframe tbody tr th:only-of-type {\n",
       "        vertical-align: middle;\n",
       "    }\n",
       "\n",
       "    .dataframe tbody tr th {\n",
       "        vertical-align: top;\n",
       "    }\n",
       "\n",
       "    .dataframe thead th {\n",
       "        text-align: right;\n",
       "    }\n",
       "</style>\n",
       "<table border=\"1\" class=\"dataframe\">\n",
       "  <thead>\n",
       "    <tr style=\"text-align: right;\">\n",
       "      <th></th>\n",
       "      <th>Cucina a vista</th>\n",
       "      <th>Cucina abitabile</th>\n",
       "      <th>Cucina angolo cottura</th>\n",
       "      <th>Cucina assente</th>\n",
       "      <th>Cucina cucinotto</th>\n",
       "      <th>Cucina semi abitabile</th>\n",
       "    </tr>\n",
       "  </thead>\n",
       "  <tbody>\n",
       "    <tr>\n",
       "      <th>0</th>\n",
       "      <td>0</td>\n",
       "      <td>0</td>\n",
       "      <td>1</td>\n",
       "      <td>0</td>\n",
       "      <td>0</td>\n",
       "      <td>0</td>\n",
       "    </tr>\n",
       "    <tr>\n",
       "      <th>1</th>\n",
       "      <td>0</td>\n",
       "      <td>0</td>\n",
       "      <td>1</td>\n",
       "      <td>0</td>\n",
       "      <td>0</td>\n",
       "      <td>0</td>\n",
       "    </tr>\n",
       "    <tr>\n",
       "      <th>2</th>\n",
       "      <td>0</td>\n",
       "      <td>0</td>\n",
       "      <td>0</td>\n",
       "      <td>0</td>\n",
       "      <td>0</td>\n",
       "      <td>1</td>\n",
       "    </tr>\n",
       "    <tr>\n",
       "      <th>3</th>\n",
       "      <td>0</td>\n",
       "      <td>1</td>\n",
       "      <td>0</td>\n",
       "      <td>0</td>\n",
       "      <td>0</td>\n",
       "      <td>0</td>\n",
       "    </tr>\n",
       "    <tr>\n",
       "      <th>4</th>\n",
       "      <td>0</td>\n",
       "      <td>0</td>\n",
       "      <td>1</td>\n",
       "      <td>0</td>\n",
       "      <td>0</td>\n",
       "      <td>0</td>\n",
       "    </tr>\n",
       "    <tr>\n",
       "      <th>...</th>\n",
       "      <td>...</td>\n",
       "      <td>...</td>\n",
       "      <td>...</td>\n",
       "      <td>...</td>\n",
       "      <td>...</td>\n",
       "      <td>...</td>\n",
       "    </tr>\n",
       "    <tr>\n",
       "      <th>21031</th>\n",
       "      <td>0</td>\n",
       "      <td>0</td>\n",
       "      <td>0</td>\n",
       "      <td>0</td>\n",
       "      <td>0</td>\n",
       "      <td>1</td>\n",
       "    </tr>\n",
       "    <tr>\n",
       "      <th>21032</th>\n",
       "      <td>0</td>\n",
       "      <td>0</td>\n",
       "      <td>0</td>\n",
       "      <td>0</td>\n",
       "      <td>0</td>\n",
       "      <td>1</td>\n",
       "    </tr>\n",
       "    <tr>\n",
       "      <th>21033</th>\n",
       "      <td>0</td>\n",
       "      <td>1</td>\n",
       "      <td>0</td>\n",
       "      <td>0</td>\n",
       "      <td>0</td>\n",
       "      <td>0</td>\n",
       "    </tr>\n",
       "    <tr>\n",
       "      <th>21034</th>\n",
       "      <td>0</td>\n",
       "      <td>1</td>\n",
       "      <td>0</td>\n",
       "      <td>0</td>\n",
       "      <td>0</td>\n",
       "      <td>0</td>\n",
       "    </tr>\n",
       "    <tr>\n",
       "      <th>21035</th>\n",
       "      <td>1</td>\n",
       "      <td>0</td>\n",
       "      <td>0</td>\n",
       "      <td>0</td>\n",
       "      <td>0</td>\n",
       "      <td>0</td>\n",
       "    </tr>\n",
       "  </tbody>\n",
       "</table>\n",
       "<p>21036 rows × 6 columns</p>\n",
       "</div>"
      ],
      "text/plain": [
       "       Cucina a vista  Cucina abitabile  Cucina angolo cottura  \\\n",
       "0                   0                 0                      1   \n",
       "1                   0                 0                      1   \n",
       "2                   0                 0                      0   \n",
       "3                   0                 1                      0   \n",
       "4                   0                 0                      1   \n",
       "...               ...               ...                    ...   \n",
       "21031               0                 0                      0   \n",
       "21032               0                 0                      0   \n",
       "21033               0                 1                      0   \n",
       "21034               0                 1                      0   \n",
       "21035               1                 0                      0   \n",
       "\n",
       "       Cucina assente  Cucina cucinotto  Cucina semi abitabile  \n",
       "0                   0                 0                      0  \n",
       "1                   0                 0                      0  \n",
       "2                   0                 0                      1  \n",
       "3                   0                 0                      0  \n",
       "4                   0                 0                      0  \n",
       "...               ...               ...                    ...  \n",
       "21031               0                 0                      1  \n",
       "21032               0                 0                      1  \n",
       "21033               0                 0                      0  \n",
       "21034               0                 0                      0  \n",
       "21035               0                 0                      0  \n",
       "\n",
       "[21036 rows x 6 columns]"
      ]
     },
     "execution_count": 111,
     "metadata": {},
     "output_type": "execute_result"
    }
   ],
   "source": [
    "pd.get_dummies(df['Cucina']).astype(int)"
   ]
  },
  {
   "cell_type": "code",
   "execution_count": 112,
   "id": "3ff79e9b-f591-4fe8-933b-fc8a1cc289e3",
   "metadata": {},
   "outputs": [],
   "source": [
    "df = pd.concat([df, pd.get_dummies(df['Cucina']).astype(int)], axis=1)"
   ]
  },
  {
   "cell_type": "code",
   "execution_count": 113,
   "id": "70235ca0-43e8-48a9-adc1-445ff81b9f58",
   "metadata": {},
   "outputs": [],
   "source": [
    "df.drop('Cucina', axis=1, inplace=True)"
   ]
  },
  {
   "cell_type": "code",
   "execution_count": 114,
   "id": "997b9b43-1274-420d-8736-7018a6632c0d",
   "metadata": {},
   "outputs": [],
   "source": [
    "save_df('kitchen_encoded_13')"
   ]
  },
  {
   "cell_type": "code",
   "execution_count": 115,
   "id": "cac38a0e-474e-4ecd-a25a-41e363a8a0b4",
   "metadata": {},
   "outputs": [
    {
     "data": {
      "text/plain": [
       "2279"
      ]
     },
     "execution_count": 115,
     "metadata": {},
     "output_type": "execute_result"
    }
   ],
   "source": [
    "df['Arredato'].isna().sum()"
   ]
  },
  {
   "cell_type": "code",
   "execution_count": 116,
   "id": "c8ffa524-1801-44bd-9fce-e1dd936ab386",
   "metadata": {},
   "outputs": [
    {
     "data": {
      "text/plain": [
       "Arredato\n",
       "No                       13721\n",
       "Parzialmente Arredato     2584\n",
       "Sì                        1950\n",
       "Solo Cucina Arredata       502\n",
       "Name: count, dtype: int64"
      ]
     },
     "execution_count": 116,
     "metadata": {},
     "output_type": "execute_result"
    }
   ],
   "source": [
    "df['Arredato'].value_counts()"
   ]
  },
  {
   "cell_type": "code",
   "execution_count": 117,
   "id": "cbf3eb90-a1b7-40fc-8dc7-3d730110a6e7",
   "metadata": {},
   "outputs": [],
   "source": [
    "df['Arredato'] = df['Arredato'].fillna('No')"
   ]
  },
  {
   "cell_type": "code",
   "execution_count": 118,
   "id": "a6b908dd-c61a-4436-88d5-a2d321f20eb4",
   "metadata": {},
   "outputs": [],
   "source": [
    "decor_dict = {'No': 0, 'Sì': 1, 'Parzialmente Arredato': .75, 'Solo Cucina Arredata': .25}"
   ]
  },
  {
   "cell_type": "code",
   "execution_count": 119,
   "id": "939ae111-3833-4a46-911c-428bd9274136",
   "metadata": {},
   "outputs": [
    {
     "name": "stderr",
     "output_type": "stream",
     "text": [
      "C:\\Users\\kevin\\AppData\\Local\\Temp\\ipykernel_3492\\3976576950.py:1: FutureWarning: Downcasting behavior in `replace` is deprecated and will be removed in a future version. To retain the old behavior, explicitly call `result.infer_objects(copy=False)`. To opt-in to the future behavior, set `pd.set_option('future.no_silent_downcasting', True)`\n",
      "  df['Arredato'] = df['Arredato'].replace(decor_dict)\n"
     ]
    }
   ],
   "source": [
    "df['Arredato'] = df['Arredato'].replace(decor_dict)"
   ]
  },
  {
   "cell_type": "code",
   "execution_count": 120,
   "id": "6adfe991-8ca3-41b8-bb97-feb32c6fba60",
   "metadata": {},
   "outputs": [],
   "source": [
    "save_df('decor_encoded_14')"
   ]
  },
  {
   "cell_type": "code",
   "execution_count": 121,
   "id": "4371707a-b91a-4642-b864-fdbde216510f",
   "metadata": {},
   "outputs": [
    {
     "data": {
      "text/plain": [
       "798"
      ]
     },
     "execution_count": 121,
     "metadata": {},
     "output_type": "execute_result"
    }
   ],
   "source": [
    "df['Balcone'].isna().sum()"
   ]
  },
  {
   "cell_type": "code",
   "execution_count": 122,
   "id": "253d4b9d-9e5f-40dc-817f-e3e6b0698be9",
   "metadata": {},
   "outputs": [
    {
     "data": {
      "text/plain": [
       "Balcone\n",
       "Sì    12845\n",
       "No     7393\n",
       "Name: count, dtype: int64"
      ]
     },
     "execution_count": 122,
     "metadata": {},
     "output_type": "execute_result"
    }
   ],
   "source": [
    "df['Balcone'].value_counts()"
   ]
  },
  {
   "cell_type": "code",
   "execution_count": 123,
   "id": "a9f3c3d9-241e-483b-a44b-a3cdd93b997e",
   "metadata": {},
   "outputs": [],
   "source": [
    "df['Balcone'] = df['Balcone'].fillna('No')"
   ]
  },
  {
   "cell_type": "code",
   "execution_count": 124,
   "id": "4d0ae888-44a4-41e1-bc43-188ae97d87d5",
   "metadata": {},
   "outputs": [
    {
     "name": "stderr",
     "output_type": "stream",
     "text": [
      "C:\\Users\\kevin\\AppData\\Local\\Temp\\ipykernel_3492\\2336783822.py:1: FutureWarning: Downcasting behavior in `replace` is deprecated and will be removed in a future version. To retain the old behavior, explicitly call `result.infer_objects(copy=False)`. To opt-in to the future behavior, set `pd.set_option('future.no_silent_downcasting', True)`\n",
      "  df['Balcone'] = df['Balcone'].replace({'Sì': 1, 'No': 0})\n"
     ]
    }
   ],
   "source": [
    "df['Balcone'] = df['Balcone'].replace({'Sì': 1, 'No': 0})"
   ]
  },
  {
   "cell_type": "code",
   "execution_count": 125,
   "id": "b52c72d3-6536-445c-bd37-44840293d03c",
   "metadata": {},
   "outputs": [],
   "source": [
    "save_df('balcony_encoded_15')"
   ]
  },
  {
   "cell_type": "code",
   "execution_count": 126,
   "id": "75be3bcd-f8ff-4b35-bc87-2162b039ffaa",
   "metadata": {},
   "outputs": [
    {
     "data": {
      "text/plain": [
       "11115"
      ]
     },
     "execution_count": 126,
     "metadata": {},
     "output_type": "execute_result"
    }
   ],
   "source": [
    "df['Box, posti auto'].isna().sum()"
   ]
  },
  {
   "cell_type": "code",
   "execution_count": 127,
   "id": "f2362347-a121-47b2-a29f-a0b3dbfe941a",
   "metadata": {},
   "outputs": [],
   "source": [
    "pd.set_option('display.max_rows', 10)"
   ]
  },
  {
   "cell_type": "code",
   "execution_count": 128,
   "id": "11658ec2-e16c-4221-be53-b6a03a9aaf5f",
   "metadata": {},
   "outputs": [
    {
     "data": {
      "text/plain": [
       "Box, posti auto\n",
       "1 in parcheggio/garage comune                                     4252\n",
       "1 in box privato/box in garage                                    2054\n",
       "1 in box privato/box in garage, 1 in parcheggio/garage comune      909\n",
       "2 in parcheggio/garage comune                                      819\n",
       "2 in box privato/box in garage                                     748\n",
       "                                                                  ... \n",
       "30 in parcheggio/garage comune                                       1\n",
       "12 in parcheggio/garage comune                                       1\n",
       "2 in box privato/box in garage, 40 in parcheggio/garage comune       1\n",
       "11 in parcheggio/garage comune                                       1\n",
       "1 in box privato/box in garage, 13 in parcheggio/garage comune       1\n",
       "Name: count, Length: 48, dtype: int64"
      ]
     },
     "execution_count": 128,
     "metadata": {},
     "output_type": "execute_result"
    }
   ],
   "source": [
    "df['Box, posti auto'].value_counts()"
   ]
  },
  {
   "cell_type": "code",
   "execution_count": 129,
   "id": "3cc2fc69-4719-446d-a4d2-53f8f8fd355a",
   "metadata": {},
   "outputs": [
    {
     "name": "stderr",
     "output_type": "stream",
     "text": [
      "C:\\Users\\kevin\\AppData\\Local\\Temp\\ipykernel_3492\\3713106471.py:1: FutureWarning: A value is trying to be set on a copy of a DataFrame or Series through chained assignment using an inplace method.\n",
      "The behavior will change in pandas 3.0. This inplace method will never work because the intermediate object on which we are setting values always behaves as a copy.\n",
      "\n",
      "For example, when doing 'df[col].method(value, inplace=True)', try using 'df.method({col: value}, inplace=True)' or df[col] = df[col].method(value) instead, to perform the operation inplace on the original object.\n",
      "\n",
      "\n",
      "  df['Box, posti auto'].fillna(0, inplace=True)\n"
     ]
    }
   ],
   "source": [
    "df['Box, posti auto'].fillna(0, inplace=True)"
   ]
  },
  {
   "cell_type": "code",
   "execution_count": 130,
   "id": "b1c24d60-d9c1-420e-9cca-fc84ad3e3a4a",
   "metadata": {},
   "outputs": [],
   "source": [
    "df['Box, posti auto'] = df['Box, posti auto'].apply(lambda x: 1 if isinstance(x, str) else x)"
   ]
  },
  {
   "cell_type": "code",
   "execution_count": 131,
   "id": "a076d1dd-47e6-471c-a350-e039f2cc27c8",
   "metadata": {},
   "outputs": [],
   "source": [
    "save_df('parking_encoded_16')"
   ]
  },
  {
   "cell_type": "code",
   "execution_count": 132,
   "id": "2080b9c3-bd44-4e7d-bba7-81dc777dea05",
   "metadata": {},
   "outputs": [
    {
     "data": {
      "text/plain": [
       "7343"
      ]
     },
     "execution_count": 132,
     "metadata": {},
     "output_type": "execute_result"
    }
   ],
   "source": [
    "df['Climatizzazione'].isna().sum()"
   ]
  },
  {
   "cell_type": "code",
   "execution_count": 133,
   "id": "6383dbdc-b060-4ec7-93d8-d1ada9e82140",
   "metadata": {},
   "outputs": [
    {
     "data": {
      "text/plain": [
       "Climatizzazione\n",
       "Autonomo, freddo/caldo                    9372\n",
       "Autonomo                                  1394\n",
       "Autonomo, freddo                           913\n",
       "Predisposizione impianto                   846\n",
       "Freddo/caldo                               463\n",
       "                                          ... \n",
       "Centralizzato, caldo                        27\n",
       "Caldo                                       13\n",
       "Predisposizione impianto, freddo/caldo       5\n",
       "Assente, freddo/caldo                        2\n",
       "Predisposizione impianto, caldo              1\n",
       "Name: count, Length: 17, dtype: int64"
      ]
     },
     "execution_count": 133,
     "metadata": {},
     "output_type": "execute_result"
    }
   ],
   "source": [
    "df['Climatizzazione'].value_counts()"
   ]
  },
  {
   "cell_type": "code",
   "execution_count": 134,
   "id": "df58d697-408b-4b1a-b12a-5d691f92e426",
   "metadata": {},
   "outputs": [],
   "source": [
    "df['Climatizzazione'] = df['Climatizzazione'].fillna('-1')"
   ]
  },
  {
   "cell_type": "code",
   "execution_count": 135,
   "id": "b66beccc-2119-4c9f-92cc-517d134a33ad",
   "metadata": {},
   "outputs": [],
   "source": [
    "df['Climatizzazione'] = df['Climatizzazione'].apply(lambda x: 0 if 'Assente' in x else x)"
   ]
  },
  {
   "cell_type": "code",
   "execution_count": 136,
   "id": "2b7efeb8-8646-49be-8d11-f467a624da12",
   "metadata": {},
   "outputs": [],
   "source": [
    "df['Climatizzazione'] = df['Climatizzazione'].apply(lambda x: 1 if isinstance(x, str) and x != '-1' else x)"
   ]
  },
  {
   "cell_type": "code",
   "execution_count": 137,
   "id": "be981c91-e34c-4d24-929c-8303db97d5f4",
   "metadata": {},
   "outputs": [],
   "source": [
    "save_df('ac_encoded_17')"
   ]
  },
  {
   "cell_type": "code",
   "execution_count": 138,
   "id": "ea264557-ae7e-4505-ac09-7117b040f866",
   "metadata": {},
   "outputs": [
    {
     "data": {
      "text/plain": [
       "2974"
      ]
     },
     "execution_count": 138,
     "metadata": {},
     "output_type": "execute_result"
    }
   ],
   "source": [
    "df['Spese condominio'].isna().sum()"
   ]
  },
  {
   "cell_type": "code",
   "execution_count": 139,
   "id": "2d9c73df-499a-4751-90aa-421bce66e009",
   "metadata": {},
   "outputs": [
    {
     "data": {
      "text/plain": [
       "Spese condominio\n",
       "Nessuna spesa condominiale    3271\n",
       "€ 100/mese                    1364\n",
       "€ 50/mese                     1298\n",
       "€ 1/mese                      1074\n",
       "€ 70/mese                      922\n",
       "                              ... \n",
       "€ 266/mese                       1\n",
       "€ 1.100/mese                     1\n",
       "€ 665/mese                       1\n",
       "€ 2.965/mese                     1\n",
       "€ 2.000/mese                     1\n",
       "Name: count, Length: 337, dtype: int64"
      ]
     },
     "execution_count": 139,
     "metadata": {},
     "output_type": "execute_result"
    }
   ],
   "source": [
    "df['Spese condominio'].value_counts()"
   ]
  },
  {
   "cell_type": "code",
   "execution_count": 140,
   "id": "9e23cd5d-d9af-4465-93d3-72c6badc3b1c",
   "metadata": {},
   "outputs": [],
   "source": [
    "df['Spese condominio'] = df['Spese condominio'].str.replace('€ ', '')"
   ]
  },
  {
   "cell_type": "code",
   "execution_count": 141,
   "id": "8f90a06a-3694-4a40-b552-79bfe3db8abf",
   "metadata": {},
   "outputs": [],
   "source": [
    "df['Spese condominio'] = df['Spese condominio'].str.replace('/mese', '')"
   ]
  },
  {
   "cell_type": "code",
   "execution_count": 142,
   "id": "0f772aaa-efa5-4a49-880d-823c5bab77d4",
   "metadata": {},
   "outputs": [],
   "source": [
    "df['Spese condominio'] = df['Spese condominio'].str.replace('Nessuna spesa condominiale', '0')"
   ]
  },
  {
   "cell_type": "code",
   "execution_count": 143,
   "id": "71853a70-78c8-4fc3-90ee-8560152c62ef",
   "metadata": {},
   "outputs": [],
   "source": [
    "df['Spese condominio'] = df['Spese condominio'].str.replace('.', '')"
   ]
  },
  {
   "cell_type": "code",
   "execution_count": 144,
   "id": "5d7315a8-8d9a-4833-820b-227ee457d5dd",
   "metadata": {},
   "outputs": [
    {
     "name": "stderr",
     "output_type": "stream",
     "text": [
      "C:\\Users\\kevin\\AppData\\Local\\Temp\\ipykernel_3492\\3928037555.py:1: FutureWarning: A value is trying to be set on a copy of a DataFrame or Series through chained assignment using an inplace method.\n",
      "The behavior will change in pandas 3.0. This inplace method will never work because the intermediate object on which we are setting values always behaves as a copy.\n",
      "\n",
      "For example, when doing 'df[col].method(value, inplace=True)', try using 'df.method({col: value}, inplace=True)' or df[col] = df[col].method(value) instead, to perform the operation inplace on the original object.\n",
      "\n",
      "\n",
      "  df['Spese condominio'].fillna(-1, inplace=True)\n"
     ]
    }
   ],
   "source": [
    "df['Spese condominio'].fillna(-1, inplace=True)"
   ]
  },
  {
   "cell_type": "code",
   "execution_count": 145,
   "id": "a0b02031-fcd1-4070-a24a-33f3752f939d",
   "metadata": {},
   "outputs": [],
   "source": [
    "df['Spese condominio'] = df['Spese condominio'].astype(int)"
   ]
  },
  {
   "cell_type": "code",
   "execution_count": 146,
   "id": "edef43d0-ef48-4521-b317-fb391b64a5cc",
   "metadata": {},
   "outputs": [
    {
     "data": {
      "image/png": "[encoded data removed]",
      "text/plain": [
       "<Figure size 640x480 with 1 Axes>"
      ]
     },
     "metadata": {},
     "output_type": "display_data"
    }
   ],
   "source": [
    "df['Spese condominio'].hist(bins=5000)\n",
    "plt.xlim([0, 500])\n",
    "plt.show()"
   ]
  },
  {
   "cell_type": "code",
   "execution_count": 147,
   "id": "53ff9797-bb85-4ea1-ae29-5a4f270c373a",
   "metadata": {},
   "outputs": [],
   "source": [
    "df['Spese condominio'] = df['Spese condominio'].replace({-1: df['Spese condominio'].median()})"
   ]
  },
  {
   "cell_type": "code",
   "execution_count": 148,
   "id": "eab95ab6-300a-4c34-a205-6251de7d1b1b",
   "metadata": {},
   "outputs": [],
   "source": [
    "save_df('expenses_encoded_18')"
   ]
  },
  {
   "cell_type": "code",
   "execution_count": 149,
   "id": "b30df216-8c3d-40ba-8377-1608a400947e",
   "metadata": {},
   "outputs": [
    {
     "name": "stderr",
     "output_type": "stream",
     "text": [
      "C:\\Users\\kevin\\AppData\\Local\\Temp\\ipykernel_3492\\2416631780.py:1: FutureWarning: A value is trying to be set on a copy of a DataFrame or Series through chained assignment using an inplace method.\n",
      "The behavior will change in pandas 3.0. This inplace method will never work because the intermediate object on which we are setting values always behaves as a copy.\n",
      "\n",
      "For example, when doing 'df[col].method(value, inplace=True)', try using 'df.method({col: value}, inplace=True)' or df[col] = df[col].method(value) instead, to perform the operation inplace on the original object.\n",
      "\n",
      "\n",
      "  df['Piano'].fillna(-2, inplace=True)\n"
     ]
    }
   ],
   "source": [
    "df['Piano'].fillna(-2, inplace=True)"
   ]
  },
  {
   "cell_type": "code",
   "execution_count": 150,
   "id": "ead2a86f-43c0-4e49-b8f1-7b2bd3acfb75",
   "metadata": {},
   "outputs": [
    {
     "data": {
      "text/plain": [
       "Immobile a reddito       0\n",
       "Piano                    0\n",
       "Piani edificio           0\n",
       "Ascensore                0\n",
       "Superficie               0\n",
       "                        ..\n",
       "Cucina abitabile         0\n",
       "Cucina angolo cottura    0\n",
       "Cucina assente           0\n",
       "Cucina cucinotto         0\n",
       "Cucina semi abitabile    0\n",
       "Length: 66, dtype: int64"
      ]
     },
     "execution_count": 150,
     "metadata": {},
     "output_type": "execute_result"
    }
   ],
   "source": [
    "df.isna().sum()"
   ]
  },
  {
   "cell_type": "code",
   "execution_count": 151,
   "id": "371120da-d360-49c2-8ebd-4bf6db44518b",
   "metadata": {},
   "outputs": [],
   "source": [
    "pd.set_option('display.max_rows', None)"
   ]
  },
  {
   "cell_type": "code",
   "execution_count": 152,
   "id": "c540404d-2802-49ad-acf0-1306b39f7361",
   "metadata": {},
   "outputs": [
    {
     "data": {
      "text/plain": [
       "21036"
      ]
     },
     "execution_count": 152,
     "metadata": {},
     "output_type": "execute_result"
    }
   ],
   "source": [
    "len(df)"
   ]
  },
  {
   "cell_type": "code",
   "execution_count": 153,
   "id": "ead86d82-2938-46d8-8c5a-cc89426aa0f4",
   "metadata": {},
   "outputs": [],
   "source": [
    "Q1 = df['Prezzo'].quantile(.25)\n",
    "Q3 = df['Prezzo'].quantile(.75)\n",
    "IQR = Q3 - Q1\n",
    "lower_bound = Q1 - 1.5 * IQR\n",
    "upper_bound = Q3 + 1.5 * IQR"
   ]
  },
  {
   "cell_type": "code",
   "execution_count": 159,
   "id": "04687450-1dde-43ea-80ba-09fbe6ad770a",
   "metadata": {},
   "outputs": [],
   "source": [
    "df = df[df['Prezzo'] < upper_bound]"
   ]
  },
  {
   "cell_type": "code",
   "execution_count": 161,
   "id": "ee1434ce-5d87-40a6-977d-6cadf6a6818f",
   "metadata": {},
   "outputs": [],
   "source": [
    "df.to_csv('encoded_dataset.csv', index=False)"
   ]
  },
  {
   "cell_type": "code",
   "execution_count": null,
   "id": "6a88dcae-7561-45c8-98e0-7aa830ffd160",
   "metadata": {},
   "outputs": [],
   "source": []
  }
 ],
 "metadata": {
  "kernelspec": {
   "display_name": "Python 3 (ipykernel)",
   "language": "python",
   "name": "python3"
  },
  "language_info": {
   "codemirror_mode": {
    "name": "ipython",
    "version": 3
   },
   "file_extension": ".py",
   "mimetype": "text/x-python",
   "name": "python",
   "nbconvert_exporter": "python",
   "pygments_lexer": "ipython3",
   "version": "3.12.8"
  }
 },
 "nbformat": 4,
 "nbformat_minor": 5
}
